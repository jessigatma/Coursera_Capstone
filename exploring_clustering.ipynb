{
 "metadata": {
  "language_info": {
   "codemirror_mode": {
    "name": "ipython",
    "version": 3
   },
   "file_extension": ".py",
   "mimetype": "text/x-python",
   "name": "python",
   "nbconvert_exporter": "python",
   "pygments_lexer": "ipython3",
   "version": "3.7.9-final"
  },
  "orig_nbformat": 2,
  "kernelspec": {
   "name": "python3",
   "display_name": "Python 3"
  }
 },
 "nbformat": 4,
 "nbformat_minor": 2,
 "cells": [
  {
   "source": [
    "# Segmenting and Clustering Neighborhoods in Toronto\n",
    "\n",
    "In this notebook we will segment and cluster the neighborhoods in Toronto. I'll use the code that I did before. "
   ],
   "cell_type": "markdown",
   "metadata": {}
  },
  {
   "source": [
    "### First of all I'm going to import the libraries I'll use"
   ],
   "cell_type": "markdown",
   "metadata": {}
  },
  {
   "cell_type": "code",
   "execution_count": 1,
   "metadata": {},
   "outputs": [],
   "source": [
    "import requests\n",
    "import urllib.request\n",
    "import time\n",
    "from bs4 import BeautifulSoup\n",
    "import numpy as np\n",
    "import pandas as pd\n",
    "from urllib.request import urlopen\n",
    "import io\n",
    "from pandas.io.json import json_normalize # tranform JSON file into a pandas dataframe\n",
    "import matplotlib.cm as cm\n",
    "import matplotlib.colors as colors\n",
    "from sklearn.cluster import KMeans\n",
    "import folium "
   ]
  },
  {
   "source": [
    "### In the next cell I'll build the dataset scraping the wikipedia data "
   ],
   "cell_type": "markdown",
   "metadata": {}
  },
  {
   "cell_type": "code",
   "execution_count": 2,
   "metadata": {},
   "outputs": [],
   "source": [
    "url = 'https://en.wikipedia.org/wiki/List_of_postal_codes_of_Canada:_M'\n",
    "html = urlopen(url) \n",
    "soup = BeautifulSoup(html, 'html.parser')\n",
    "Toronto_tables = soup.find_all('table')\n",
    "\n",
    "PostalCode = []\n",
    "Borough = []\n",
    "Neighborhood = []\n",
    "\n",
    "for table in Toronto_tables:\n",
    "    rows = table.find_all('tr')\n",
    "    \n",
    "    for row in rows:\n",
    "        cells = row.find_all('td')\n",
    "                \n",
    "        if len(cells) == 3:\n",
    "            PostalCode_n = cells[0]\n",
    "            PostalCode.append(PostalCode_n.text.strip())\n",
    "            \n",
    "            Borough_n = cells[1]\n",
    "            Borough.append(Borough_n.text.strip())\n",
    "            \n",
    "            Neighborhood_n = cells[2]\n",
    "            Neighborhood.append(Neighborhood_n.text.strip())\n",
    "\n",
    "neighborhoods = pd.DataFrame({'PostalCode':PostalCode, 'Borough': Borough,'Neighborhood':Neighborhood})\n",
    "neighborhood_Toronto = neighborhoods[neighborhoods['Borough']!='Not assigned']\n"
   ]
  },
  {
   "source": [
    "### In the next cell I'll use the url given in the coursera instructions to get the coordinates for every postal code"
   ],
   "cell_type": "markdown",
   "metadata": {}
  },
  {
   "cell_type": "code",
   "execution_count": 3,
   "metadata": {},
   "outputs": [],
   "source": [
    "url_data =  'https://cocl.us/Geospatial_data'\n",
    "content_data = requests.get(url_data).content\n",
    "coordinates = pd.read_csv(io.StringIO(content_data.decode('utf-8')))\n",
    "coordinates.rename(columns={'Postal Code':'PostalCode'}, inplace=True)"
   ]
  },
  {
   "source": [
    "### Here I'll merge the datasets built before. The columns will be: PostalCode, Borough, Neighborhood, Latitude and Longitude"
   ],
   "cell_type": "markdown",
   "metadata": {}
  },
  {
   "cell_type": "code",
   "execution_count": 4,
   "metadata": {},
   "outputs": [],
   "source": [
    "neighborhood_coordinates = pd.merge(neighborhood_Toronto ,coordinates, on='PostalCode')"
   ]
  },
  {
   "cell_type": "code",
   "execution_count": 5,
   "metadata": {},
   "outputs": [
    {
     "output_type": "execute_result",
     "data": {
      "text/plain": [
       "  PostalCode           Borough                                 Neighborhood  \\\n",
       "0        M3A        North York                                    Parkwoods   \n",
       "1        M4A        North York                             Victoria Village   \n",
       "2        M5A  Downtown Toronto                    Regent Park, Harbourfront   \n",
       "3        M6A        North York             Lawrence Manor, Lawrence Heights   \n",
       "4        M7A  Downtown Toronto  Queen's Park, Ontario Provincial Government   \n",
       "\n",
       "    Latitude  Longitude  \n",
       "0  43.753259 -79.329656  \n",
       "1  43.725882 -79.315572  \n",
       "2  43.654260 -79.360636  \n",
       "3  43.718518 -79.464763  \n",
       "4  43.662301 -79.389494  "
      ],
      "text/html": "<div>\n<style scoped>\n    .dataframe tbody tr th:only-of-type {\n        vertical-align: middle;\n    }\n\n    .dataframe tbody tr th {\n        vertical-align: top;\n    }\n\n    .dataframe thead th {\n        text-align: right;\n    }\n</style>\n<table border=\"1\" class=\"dataframe\">\n  <thead>\n    <tr style=\"text-align: right;\">\n      <th></th>\n      <th>PostalCode</th>\n      <th>Borough</th>\n      <th>Neighborhood</th>\n      <th>Latitude</th>\n      <th>Longitude</th>\n    </tr>\n  </thead>\n  <tbody>\n    <tr>\n      <th>0</th>\n      <td>M3A</td>\n      <td>North York</td>\n      <td>Parkwoods</td>\n      <td>43.753259</td>\n      <td>-79.329656</td>\n    </tr>\n    <tr>\n      <th>1</th>\n      <td>M4A</td>\n      <td>North York</td>\n      <td>Victoria Village</td>\n      <td>43.725882</td>\n      <td>-79.315572</td>\n    </tr>\n    <tr>\n      <th>2</th>\n      <td>M5A</td>\n      <td>Downtown Toronto</td>\n      <td>Regent Park, Harbourfront</td>\n      <td>43.654260</td>\n      <td>-79.360636</td>\n    </tr>\n    <tr>\n      <th>3</th>\n      <td>M6A</td>\n      <td>North York</td>\n      <td>Lawrence Manor, Lawrence Heights</td>\n      <td>43.718518</td>\n      <td>-79.464763</td>\n    </tr>\n    <tr>\n      <th>4</th>\n      <td>M7A</td>\n      <td>Downtown Toronto</td>\n      <td>Queen's Park, Ontario Provincial Government</td>\n      <td>43.662301</td>\n      <td>-79.389494</td>\n    </tr>\n  </tbody>\n</table>\n</div>"
     },
     "metadata": {},
     "execution_count": 5
    }
   ],
   "source": [
    "neighborhood_coordinates.head()"
   ]
  },
  {
   "source": [
    "### I want to know which boroughs I have"
   ],
   "cell_type": "markdown",
   "metadata": {}
  },
  {
   "cell_type": "code",
   "execution_count": 6,
   "metadata": {},
   "outputs": [
    {
     "output_type": "execute_result",
     "data": {
      "text/plain": [
       "North York          24\n",
       "Downtown Toronto    19\n",
       "Scarborough         17\n",
       "Etobicoke           12\n",
       "Central Toronto      9\n",
       "West Toronto         6\n",
       "East Toronto         5\n",
       "East York            5\n",
       "York                 5\n",
       "Mississauga          1\n",
       "Name: Borough, dtype: int64"
      ]
     },
     "metadata": {},
     "execution_count": 6
    }
   ],
   "source": [
    "neighborhood_coordinates.Borough.value_counts()"
   ]
  },
  {
   "source": [
    "### I'm just going to consider the ones with Toronto in the name"
   ],
   "cell_type": "markdown",
   "metadata": {}
  },
  {
   "cell_type": "code",
   "execution_count": 7,
   "metadata": {},
   "outputs": [
    {
     "output_type": "execute_result",
     "data": {
      "text/plain": [
       "Downtown Toronto    19\n",
       "Central Toronto      9\n",
       "West Toronto         6\n",
       "East Toronto         5\n",
       "Name: Borough, dtype: int64"
      ]
     },
     "metadata": {},
     "execution_count": 7
    }
   ],
   "source": [
    "Toronto_borough = neighborhood_coordinates[(neighborhood_coordinates['Borough']=='Downtown Toronto') | (neighborhood_coordinates['Borough']=='Central Toronto') | (neighborhood_coordinates['Borough']=='West Toronto') | (neighborhood_coordinates['Borough']=='East Toronto') ]\n",
    "Toronto_borough.Borough.value_counts()"
   ]
  },
  {
   "cell_type": "code",
   "execution_count": 8,
   "metadata": {},
   "outputs": [
    {
     "output_type": "execute_result",
     "data": {
      "text/plain": [
       "   PostalCode           Borough                                 Neighborhood  \\\n",
       "2         M5A  Downtown Toronto                    Regent Park, Harbourfront   \n",
       "4         M7A  Downtown Toronto  Queen's Park, Ontario Provincial Government   \n",
       "9         M5B  Downtown Toronto                     Garden District, Ryerson   \n",
       "15        M5C  Downtown Toronto                               St. James Town   \n",
       "19        M4E      East Toronto                                  The Beaches   \n",
       "\n",
       "     Latitude  Longitude  \n",
       "2   43.654260 -79.360636  \n",
       "4   43.662301 -79.389494  \n",
       "9   43.657162 -79.378937  \n",
       "15  43.651494 -79.375418  \n",
       "19  43.676357 -79.293031  "
      ],
      "text/html": "<div>\n<style scoped>\n    .dataframe tbody tr th:only-of-type {\n        vertical-align: middle;\n    }\n\n    .dataframe tbody tr th {\n        vertical-align: top;\n    }\n\n    .dataframe thead th {\n        text-align: right;\n    }\n</style>\n<table border=\"1\" class=\"dataframe\">\n  <thead>\n    <tr style=\"text-align: right;\">\n      <th></th>\n      <th>PostalCode</th>\n      <th>Borough</th>\n      <th>Neighborhood</th>\n      <th>Latitude</th>\n      <th>Longitude</th>\n    </tr>\n  </thead>\n  <tbody>\n    <tr>\n      <th>2</th>\n      <td>M5A</td>\n      <td>Downtown Toronto</td>\n      <td>Regent Park, Harbourfront</td>\n      <td>43.654260</td>\n      <td>-79.360636</td>\n    </tr>\n    <tr>\n      <th>4</th>\n      <td>M7A</td>\n      <td>Downtown Toronto</td>\n      <td>Queen's Park, Ontario Provincial Government</td>\n      <td>43.662301</td>\n      <td>-79.389494</td>\n    </tr>\n    <tr>\n      <th>9</th>\n      <td>M5B</td>\n      <td>Downtown Toronto</td>\n      <td>Garden District, Ryerson</td>\n      <td>43.657162</td>\n      <td>-79.378937</td>\n    </tr>\n    <tr>\n      <th>15</th>\n      <td>M5C</td>\n      <td>Downtown Toronto</td>\n      <td>St. James Town</td>\n      <td>43.651494</td>\n      <td>-79.375418</td>\n    </tr>\n    <tr>\n      <th>19</th>\n      <td>M4E</td>\n      <td>East Toronto</td>\n      <td>The Beaches</td>\n      <td>43.676357</td>\n      <td>-79.293031</td>\n    </tr>\n  </tbody>\n</table>\n</div>"
     },
     "metadata": {},
     "execution_count": 8
    }
   ],
   "source": [
    "Toronto_borough.head()"
   ]
  },
  {
   "cell_type": "code",
   "execution_count": 9,
   "metadata": {},
   "outputs": [
    {
     "output_type": "execute_result",
     "data": {
      "text/plain": [
       "(39, 5)"
      ]
     },
     "metadata": {},
     "execution_count": 9
    }
   ],
   "source": [
    "Toronto_borough.shape"
   ]
  },
  {
   "source": [
    "### I'm going to map the neighborhoods of this boroughs"
   ],
   "cell_type": "markdown",
   "metadata": {}
  },
  {
   "cell_type": "code",
   "execution_count": 10,
   "metadata": {},
   "outputs": [
    {
     "output_type": "execute_result",
     "data": {
      "text/plain": [
       "<folium.folium.Map at 0x1c877b61408>"
      ],
      "text/html": "<div style=\"width:100%;\"><div style=\"position:relative;width:100%;height:0;padding-bottom:60%;\"><span style=\"color:#565656\">Make this Notebook Trusted to load map: File -> Trust Notebook</span><iframe src=\"about:blank\" style=\"position:absolute;width:100%;height:100%;left:0;top:0;border:none !important;\" data-html=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 onload=\"this.contentDocument.open();this.contentDocument.write(atob(this.getAttribute('data-html')));this.contentDocument.close();\" allowfullscreen webkitallowfullscreen mozallowfullscreen></iframe></div></div>"
     },
     "metadata": {},
     "execution_count": 10
    }
   ],
   "source": [
    "latitude= '43.654260'\n",
    "longitude = '-79.360636'\n",
    "\n",
    "map_toronto = folium.Map(location=[latitude, longitude], zoom_start=10)\n",
    "\n",
    "for lat, lng, borough, neighborhood in zip(Toronto_borough['Latitude'], Toronto_borough['Longitude'], Toronto_borough['Borough'], Toronto_borough['Neighborhood']):\n",
    "    label = '{}, {}'.format(neighborhood, borough)\n",
    "    label = folium.Popup(label, parse_html=True)\n",
    "    folium.CircleMarker(\n",
    "        [lat, lng],\n",
    "        radius=5,\n",
    "        popup=label,\n",
    "        color='red',\n",
    "        fill=True,\n",
    "        fill_color='#3186cc',\n",
    "        fill_opacity=0.7,\n",
    "        parse_html=False).add_to(map_toronto)  \n",
    "    \n",
    "map_toronto"
   ]
  },
  {
   "source": [
    "### I'm going to use my API Foursquare credentials "
   ],
   "cell_type": "markdown",
   "metadata": {}
  },
  {
   "cell_type": "code",
   "execution_count": 90,
   "metadata": {},
   "outputs": [],
   "source": [
    "CLIENT_ID = '*********************' # your Foursquare ID\n",
    "CLIENT_SECRET = '*********************'# your Foursquare Secret\n",
    "VERSION = '20180605' # Foursquare API version\n",
    "LIMIT = 100 # A default Foursquare API limit value\n"
   ]
  },
  {
   "source": [
    "### I'm going to create a function that returns the relevant information for each neighborhood in Toronto"
   ],
   "cell_type": "markdown",
   "metadata": {}
  },
  {
   "cell_type": "code",
   "execution_count": 28,
   "metadata": {},
   "outputs": [],
   "source": [
    "def getNearbyVenues(names, latitudes, longitudes, radius=500):\n",
    "    \n",
    "    venues_list=[]\n",
    "    for name, lat, lng in zip(names, latitudes, longitudes):\n",
    "        print(name)\n",
    "            \n",
    "        # create the API request URL\n",
    "        url = 'https://api.foursquare.com/v2/venues/explore?&client_id={}&client_secret={}&v={}&ll={},{}&radius={}&limit={}'.format(\n",
    "            CLIENT_ID, \n",
    "            CLIENT_SECRET, \n",
    "            VERSION, \n",
    "            lat, \n",
    "            lng, \n",
    "            radius, \n",
    "            LIMIT)\n",
    "            \n",
    "        # make the GET request\n",
    "        results = requests.get(url).json()['response']['groups'][0]['items']\n",
    "        \n",
    "        # return only relevant information for each nearby venue\n",
    "        venues_list.append([(\n",
    "            name, \n",
    "            lat, \n",
    "            lng, \n",
    "            v['venue']['name'], \n",
    "            v['venue']['location']['lat'], \n",
    "            v['venue']['location']['lng'],  \n",
    "            v['venue']['categories'][0]['name']) for v in results])\n",
    "\n",
    "    nearby_venues = pd.DataFrame([item for venue_list in venues_list for item in venue_list])\n",
    "    nearby_venues.columns = ['Neighborhood', \n",
    "                  'Neighborhood Latitude', \n",
    "                  'Neighborhood Longitude', \n",
    "                  'Venue', \n",
    "                  'Venue Latitude', \n",
    "                  'Venue Longitude', \n",
    "                  'Venue Category']\n",
    "    \n",
    "    return(nearby_venues)"
   ]
  },
  {
   "cell_type": "code",
   "execution_count": 34,
   "metadata": {},
   "outputs": [
    {
     "output_type": "stream",
     "name": "stdout",
     "text": [
      "Regent Park, Harbourfront\n",
      "Queen's Park, Ontario Provincial Government\n",
      "Garden District, Ryerson\n",
      "St. James Town\n",
      "The Beaches\n",
      "Berczy Park\n",
      "Central Bay Street\n",
      "Christie\n",
      "Richmond, Adelaide, King\n",
      "Dufferin, Dovercourt Village\n",
      "Harbourfront East, Union Station, Toronto Islands\n",
      "Little Portugal, Trinity\n",
      "The Danforth West, Riverdale\n",
      "Toronto Dominion Centre, Design Exchange\n",
      "Brockton, Parkdale Village, Exhibition Place\n",
      "India Bazaar, The Beaches West\n",
      "Commerce Court, Victoria Hotel\n",
      "Studio District\n",
      "Lawrence Park\n",
      "Roselawn\n",
      "Davisville North\n",
      "Forest Hill North & West, Forest Hill Road Park\n",
      "High Park, The Junction South\n",
      "North Toronto West,  Lawrence Park\n",
      "The Annex, North Midtown, Yorkville\n",
      "Parkdale, Roncesvalles\n",
      "Davisville\n",
      "University of Toronto, Harbord\n",
      "Runnymede, Swansea\n",
      "Moore Park, Summerhill East\n",
      "Kensington Market, Chinatown, Grange Park\n",
      "Summerhill West, Rathnelly, South Hill, Forest Hill SE, Deer Park\n",
      "CN Tower, King and Spadina, Railway Lands, Harbourfront West, Bathurst Quay, South Niagara, Island airport\n",
      "Rosedale\n",
      "Stn A PO Boxes\n",
      "St. James Town, Cabbagetown\n",
      "First Canadian Place, Underground city\n",
      "Church and Wellesley\n",
      "Business reply mail Processing Centre, South Central Letter Processing Plant Toronto\n"
     ]
    }
   ],
   "source": [
    "Toronto_venues = getNearbyVenues(names=Toronto_borough['Neighborhood'],\n",
    "                                   latitudes=Toronto_borough['Latitude'],\n",
    "                                   longitudes=Toronto_borough['Longitude']\n",
    "                                  )"
   ]
  },
  {
   "source": [
    "### In the next cell I show the new dataframe with the venues "
   ],
   "cell_type": "markdown",
   "metadata": {}
  },
  {
   "cell_type": "code",
   "execution_count": 35,
   "metadata": {},
   "outputs": [
    {
     "output_type": "stream",
     "name": "stdout",
     "text": [
      "(1624, 7)\n"
     ]
    },
    {
     "output_type": "execute_result",
     "data": {
      "text/plain": [
       "                Neighborhood  Neighborhood Latitude  Neighborhood Longitude  \\\n",
       "0  Regent Park, Harbourfront               43.65426              -79.360636   \n",
       "1  Regent Park, Harbourfront               43.65426              -79.360636   \n",
       "2  Regent Park, Harbourfront               43.65426              -79.360636   \n",
       "3  Regent Park, Harbourfront               43.65426              -79.360636   \n",
       "4  Regent Park, Harbourfront               43.65426              -79.360636   \n",
       "\n",
       "                    Venue  Venue Latitude  Venue Longitude  \\\n",
       "0        Roselle Desserts       43.653447       -79.362017   \n",
       "1           Tandem Coffee       43.653559       -79.361809   \n",
       "2  Cooper Koo Family YMCA       43.653249       -79.358008   \n",
       "3     Body Blitz Spa East       43.654735       -79.359874   \n",
       "4          Impact Kitchen       43.656369       -79.356980   \n",
       "\n",
       "        Venue Category  \n",
       "0               Bakery  \n",
       "1          Coffee Shop  \n",
       "2  Distribution Center  \n",
       "3                  Spa  \n",
       "4           Restaurant  "
      ],
      "text/html": "<div>\n<style scoped>\n    .dataframe tbody tr th:only-of-type {\n        vertical-align: middle;\n    }\n\n    .dataframe tbody tr th {\n        vertical-align: top;\n    }\n\n    .dataframe thead th {\n        text-align: right;\n    }\n</style>\n<table border=\"1\" class=\"dataframe\">\n  <thead>\n    <tr style=\"text-align: right;\">\n      <th></th>\n      <th>Neighborhood</th>\n      <th>Neighborhood Latitude</th>\n      <th>Neighborhood Longitude</th>\n      <th>Venue</th>\n      <th>Venue Latitude</th>\n      <th>Venue Longitude</th>\n      <th>Venue Category</th>\n    </tr>\n  </thead>\n  <tbody>\n    <tr>\n      <th>0</th>\n      <td>Regent Park, Harbourfront</td>\n      <td>43.65426</td>\n      <td>-79.360636</td>\n      <td>Roselle Desserts</td>\n      <td>43.653447</td>\n      <td>-79.362017</td>\n      <td>Bakery</td>\n    </tr>\n    <tr>\n      <th>1</th>\n      <td>Regent Park, Harbourfront</td>\n      <td>43.65426</td>\n      <td>-79.360636</td>\n      <td>Tandem Coffee</td>\n      <td>43.653559</td>\n      <td>-79.361809</td>\n      <td>Coffee Shop</td>\n    </tr>\n    <tr>\n      <th>2</th>\n      <td>Regent Park, Harbourfront</td>\n      <td>43.65426</td>\n      <td>-79.360636</td>\n      <td>Cooper Koo Family YMCA</td>\n      <td>43.653249</td>\n      <td>-79.358008</td>\n      <td>Distribution Center</td>\n    </tr>\n    <tr>\n      <th>3</th>\n      <td>Regent Park, Harbourfront</td>\n      <td>43.65426</td>\n      <td>-79.360636</td>\n      <td>Body Blitz Spa East</td>\n      <td>43.654735</td>\n      <td>-79.359874</td>\n      <td>Spa</td>\n    </tr>\n    <tr>\n      <th>4</th>\n      <td>Regent Park, Harbourfront</td>\n      <td>43.65426</td>\n      <td>-79.360636</td>\n      <td>Impact Kitchen</td>\n      <td>43.656369</td>\n      <td>-79.356980</td>\n      <td>Restaurant</td>\n    </tr>\n  </tbody>\n</table>\n</div>"
     },
     "metadata": {},
     "execution_count": 35
    }
   ],
   "source": [
    "print(Toronto_venues.shape)\n",
    "Toronto_venues.head()"
   ]
  },
  {
   "source": [
    "### I'm going to group them by neighorhood "
   ],
   "cell_type": "markdown",
   "metadata": {}
  },
  {
   "cell_type": "code",
   "execution_count": 36,
   "metadata": {},
   "outputs": [
    {
     "output_type": "execute_result",
     "data": {
      "text/plain": [
       "                                                    Neighborhood Latitude  \\\n",
       "Neighborhood                                                                \n",
       "Berczy Park                                                            55   \n",
       "Brockton, Parkdale Village, Exhibition Place                           23   \n",
       "Business reply mail Processing Centre, South Ce...                     16   \n",
       "CN Tower, King and Spadina, Railway Lands, Harb...                     16   \n",
       "Central Bay Street                                                     68   \n",
       "Christie                                                               16   \n",
       "Church and Wellesley                                                   75   \n",
       "Commerce Court, Victoria Hotel                                        100   \n",
       "Davisville                                                             33   \n",
       "Davisville North                                                        9   \n",
       "Dufferin, Dovercourt Village                                           13   \n",
       "First Canadian Place, Underground city                                100   \n",
       "Forest Hill North & West, Forest Hill Road Park                         4   \n",
       "Garden District, Ryerson                                              100   \n",
       "Harbourfront East, Union Station, Toronto Islands                     100   \n",
       "High Park, The Junction South                                          25   \n",
       "India Bazaar, The Beaches West                                         19   \n",
       "Kensington Market, Chinatown, Grange Park                              74   \n",
       "Lawrence Park                                                           3   \n",
       "Little Portugal, Trinity                                               45   \n",
       "Moore Park, Summerhill East                                             2   \n",
       "North Toronto West,  Lawrence Park                                     18   \n",
       "Parkdale, Roncesvalles                                                 14   \n",
       "Queen's Park, Ontario Provincial Government                            33   \n",
       "Regent Park, Harbourfront                                              44   \n",
       "Richmond, Adelaide, King                                              100   \n",
       "Rosedale                                                                4   \n",
       "Roselawn                                                                2   \n",
       "Runnymede, Swansea                                                     33   \n",
       "St. James Town                                                         85   \n",
       "St. James Town, Cabbagetown                                            48   \n",
       "Stn A PO Boxes                                                         96   \n",
       "Studio District                                                        37   \n",
       "Summerhill West, Rathnelly, South Hill, Forest ...                     14   \n",
       "The Annex, North Midtown, Yorkville                                    19   \n",
       "The Beaches                                                             4   \n",
       "The Danforth West, Riverdale                                           43   \n",
       "Toronto Dominion Centre, Design Exchange                              100   \n",
       "University of Toronto, Harbord                                         34   \n",
       "\n",
       "                                                    Neighborhood Longitude  \\\n",
       "Neighborhood                                                                 \n",
       "Berczy Park                                                             55   \n",
       "Brockton, Parkdale Village, Exhibition Place                            23   \n",
       "Business reply mail Processing Centre, South Ce...                      16   \n",
       "CN Tower, King and Spadina, Railway Lands, Harb...                      16   \n",
       "Central Bay Street                                                      68   \n",
       "Christie                                                                16   \n",
       "Church and Wellesley                                                    75   \n",
       "Commerce Court, Victoria Hotel                                         100   \n",
       "Davisville                                                              33   \n",
       "Davisville North                                                         9   \n",
       "Dufferin, Dovercourt Village                                            13   \n",
       "First Canadian Place, Underground city                                 100   \n",
       "Forest Hill North & West, Forest Hill Road Park                          4   \n",
       "Garden District, Ryerson                                               100   \n",
       "Harbourfront East, Union Station, Toronto Islands                      100   \n",
       "High Park, The Junction South                                           25   \n",
       "India Bazaar, The Beaches West                                          19   \n",
       "Kensington Market, Chinatown, Grange Park                               74   \n",
       "Lawrence Park                                                            3   \n",
       "Little Portugal, Trinity                                                45   \n",
       "Moore Park, Summerhill East                                              2   \n",
       "North Toronto West,  Lawrence Park                                      18   \n",
       "Parkdale, Roncesvalles                                                  14   \n",
       "Queen's Park, Ontario Provincial Government                             33   \n",
       "Regent Park, Harbourfront                                               44   \n",
       "Richmond, Adelaide, King                                               100   \n",
       "Rosedale                                                                 4   \n",
       "Roselawn                                                                 2   \n",
       "Runnymede, Swansea                                                      33   \n",
       "St. James Town                                                          85   \n",
       "St. James Town, Cabbagetown                                             48   \n",
       "Stn A PO Boxes                                                          96   \n",
       "Studio District                                                         37   \n",
       "Summerhill West, Rathnelly, South Hill, Forest ...                      14   \n",
       "The Annex, North Midtown, Yorkville                                     19   \n",
       "The Beaches                                                              4   \n",
       "The Danforth West, Riverdale                                            43   \n",
       "Toronto Dominion Centre, Design Exchange                               100   \n",
       "University of Toronto, Harbord                                          34   \n",
       "\n",
       "                                                    Venue  Venue Latitude  \\\n",
       "Neighborhood                                                                \n",
       "Berczy Park                                            55              55   \n",
       "Brockton, Parkdale Village, Exhibition Place           23              23   \n",
       "Business reply mail Processing Centre, South Ce...     16              16   \n",
       "CN Tower, King and Spadina, Railway Lands, Harb...     16              16   \n",
       "Central Bay Street                                     68              68   \n",
       "Christie                                               16              16   \n",
       "Church and Wellesley                                   75              75   \n",
       "Commerce Court, Victoria Hotel                        100             100   \n",
       "Davisville                                             33              33   \n",
       "Davisville North                                        9               9   \n",
       "Dufferin, Dovercourt Village                           13              13   \n",
       "First Canadian Place, Underground city                100             100   \n",
       "Forest Hill North & West, Forest Hill Road Park         4               4   \n",
       "Garden District, Ryerson                              100             100   \n",
       "Harbourfront East, Union Station, Toronto Islands     100             100   \n",
       "High Park, The Junction South                          25              25   \n",
       "India Bazaar, The Beaches West                         19              19   \n",
       "Kensington Market, Chinatown, Grange Park              74              74   \n",
       "Lawrence Park                                           3               3   \n",
       "Little Portugal, Trinity                               45              45   \n",
       "Moore Park, Summerhill East                             2               2   \n",
       "North Toronto West,  Lawrence Park                     18              18   \n",
       "Parkdale, Roncesvalles                                 14              14   \n",
       "Queen's Park, Ontario Provincial Government            33              33   \n",
       "Regent Park, Harbourfront                              44              44   \n",
       "Richmond, Adelaide, King                              100             100   \n",
       "Rosedale                                                4               4   \n",
       "Roselawn                                                2               2   \n",
       "Runnymede, Swansea                                     33              33   \n",
       "St. James Town                                         85              85   \n",
       "St. James Town, Cabbagetown                            48              48   \n",
       "Stn A PO Boxes                                         96              96   \n",
       "Studio District                                        37              37   \n",
       "Summerhill West, Rathnelly, South Hill, Forest ...     14              14   \n",
       "The Annex, North Midtown, Yorkville                    19              19   \n",
       "The Beaches                                             4               4   \n",
       "The Danforth West, Riverdale                           43              43   \n",
       "Toronto Dominion Centre, Design Exchange              100             100   \n",
       "University of Toronto, Harbord                         34              34   \n",
       "\n",
       "                                                    Venue Longitude  \\\n",
       "Neighborhood                                                          \n",
       "Berczy Park                                                      55   \n",
       "Brockton, Parkdale Village, Exhibition Place                     23   \n",
       "Business reply mail Processing Centre, South Ce...               16   \n",
       "CN Tower, King and Spadina, Railway Lands, Harb...               16   \n",
       "Central Bay Street                                               68   \n",
       "Christie                                                         16   \n",
       "Church and Wellesley                                             75   \n",
       "Commerce Court, Victoria Hotel                                  100   \n",
       "Davisville                                                       33   \n",
       "Davisville North                                                  9   \n",
       "Dufferin, Dovercourt Village                                     13   \n",
       "First Canadian Place, Underground city                          100   \n",
       "Forest Hill North & West, Forest Hill Road Park                   4   \n",
       "Garden District, Ryerson                                        100   \n",
       "Harbourfront East, Union Station, Toronto Islands               100   \n",
       "High Park, The Junction South                                    25   \n",
       "India Bazaar, The Beaches West                                   19   \n",
       "Kensington Market, Chinatown, Grange Park                        74   \n",
       "Lawrence Park                                                     3   \n",
       "Little Portugal, Trinity                                         45   \n",
       "Moore Park, Summerhill East                                       2   \n",
       "North Toronto West,  Lawrence Park                               18   \n",
       "Parkdale, Roncesvalles                                           14   \n",
       "Queen's Park, Ontario Provincial Government                      33   \n",
       "Regent Park, Harbourfront                                        44   \n",
       "Richmond, Adelaide, King                                        100   \n",
       "Rosedale                                                          4   \n",
       "Roselawn                                                          2   \n",
       "Runnymede, Swansea                                               33   \n",
       "St. James Town                                                   85   \n",
       "St. James Town, Cabbagetown                                      48   \n",
       "Stn A PO Boxes                                                   96   \n",
       "Studio District                                                  37   \n",
       "Summerhill West, Rathnelly, South Hill, Forest ...               14   \n",
       "The Annex, North Midtown, Yorkville                              19   \n",
       "The Beaches                                                       4   \n",
       "The Danforth West, Riverdale                                     43   \n",
       "Toronto Dominion Centre, Design Exchange                        100   \n",
       "University of Toronto, Harbord                                   34   \n",
       "\n",
       "                                                    Venue Category  \n",
       "Neighborhood                                                        \n",
       "Berczy Park                                                     55  \n",
       "Brockton, Parkdale Village, Exhibition Place                    23  \n",
       "Business reply mail Processing Centre, South Ce...              16  \n",
       "CN Tower, King and Spadina, Railway Lands, Harb...              16  \n",
       "Central Bay Street                                              68  \n",
       "Christie                                                        16  \n",
       "Church and Wellesley                                            75  \n",
       "Commerce Court, Victoria Hotel                                 100  \n",
       "Davisville                                                      33  \n",
       "Davisville North                                                 9  \n",
       "Dufferin, Dovercourt Village                                    13  \n",
       "First Canadian Place, Underground city                         100  \n",
       "Forest Hill North & West, Forest Hill Road Park                  4  \n",
       "Garden District, Ryerson                                       100  \n",
       "Harbourfront East, Union Station, Toronto Islands              100  \n",
       "High Park, The Junction South                                   25  \n",
       "India Bazaar, The Beaches West                                  19  \n",
       "Kensington Market, Chinatown, Grange Park                       74  \n",
       "Lawrence Park                                                    3  \n",
       "Little Portugal, Trinity                                        45  \n",
       "Moore Park, Summerhill East                                      2  \n",
       "North Toronto West,  Lawrence Park                              18  \n",
       "Parkdale, Roncesvalles                                          14  \n",
       "Queen's Park, Ontario Provincial Government                     33  \n",
       "Regent Park, Harbourfront                                       44  \n",
       "Richmond, Adelaide, King                                       100  \n",
       "Rosedale                                                         4  \n",
       "Roselawn                                                         2  \n",
       "Runnymede, Swansea                                              33  \n",
       "St. James Town                                                  85  \n",
       "St. James Town, Cabbagetown                                     48  \n",
       "Stn A PO Boxes                                                  96  \n",
       "Studio District                                                 37  \n",
       "Summerhill West, Rathnelly, South Hill, Forest ...              14  \n",
       "The Annex, North Midtown, Yorkville                             19  \n",
       "The Beaches                                                      4  \n",
       "The Danforth West, Riverdale                                    43  \n",
       "Toronto Dominion Centre, Design Exchange                       100  \n",
       "University of Toronto, Harbord                                  34  "
      ],
      "text/html": "<div>\n<style scoped>\n    .dataframe tbody tr th:only-of-type {\n        vertical-align: middle;\n    }\n\n    .dataframe tbody tr th {\n        vertical-align: top;\n    }\n\n    .dataframe thead th {\n        text-align: right;\n    }\n</style>\n<table border=\"1\" class=\"dataframe\">\n  <thead>\n    <tr style=\"text-align: right;\">\n      <th></th>\n      <th>Neighborhood Latitude</th>\n      <th>Neighborhood Longitude</th>\n      <th>Venue</th>\n      <th>Venue Latitude</th>\n      <th>Venue Longitude</th>\n      <th>Venue Category</th>\n    </tr>\n    <tr>\n      <th>Neighborhood</th>\n      <th></th>\n      <th></th>\n      <th></th>\n      <th></th>\n      <th></th>\n      <th></th>\n    </tr>\n  </thead>\n  <tbody>\n    <tr>\n      <th>Berczy Park</th>\n      <td>55</td>\n      <td>55</td>\n      <td>55</td>\n      <td>55</td>\n      <td>55</td>\n      <td>55</td>\n    </tr>\n    <tr>\n      <th>Brockton, Parkdale Village, Exhibition Place</th>\n      <td>23</td>\n      <td>23</td>\n      <td>23</td>\n      <td>23</td>\n      <td>23</td>\n      <td>23</td>\n    </tr>\n    <tr>\n      <th>Business reply mail Processing Centre, South Central Letter Processing Plant Toronto</th>\n      <td>16</td>\n      <td>16</td>\n      <td>16</td>\n      <td>16</td>\n      <td>16</td>\n      <td>16</td>\n    </tr>\n    <tr>\n      <th>CN Tower, King and Spadina, Railway Lands, Harbourfront West, Bathurst Quay, South Niagara, Island airport</th>\n      <td>16</td>\n      <td>16</td>\n      <td>16</td>\n      <td>16</td>\n      <td>16</td>\n      <td>16</td>\n    </tr>\n    <tr>\n      <th>Central Bay Street</th>\n      <td>68</td>\n      <td>68</td>\n      <td>68</td>\n      <td>68</td>\n      <td>68</td>\n      <td>68</td>\n    </tr>\n    <tr>\n      <th>Christie</th>\n      <td>16</td>\n      <td>16</td>\n      <td>16</td>\n      <td>16</td>\n      <td>16</td>\n      <td>16</td>\n    </tr>\n    <tr>\n      <th>Church and Wellesley</th>\n      <td>75</td>\n      <td>75</td>\n      <td>75</td>\n      <td>75</td>\n      <td>75</td>\n      <td>75</td>\n    </tr>\n    <tr>\n      <th>Commerce Court, Victoria Hotel</th>\n      <td>100</td>\n      <td>100</td>\n      <td>100</td>\n      <td>100</td>\n      <td>100</td>\n      <td>100</td>\n    </tr>\n    <tr>\n      <th>Davisville</th>\n      <td>33</td>\n      <td>33</td>\n      <td>33</td>\n      <td>33</td>\n      <td>33</td>\n      <td>33</td>\n    </tr>\n    <tr>\n      <th>Davisville North</th>\n      <td>9</td>\n      <td>9</td>\n      <td>9</td>\n      <td>9</td>\n      <td>9</td>\n      <td>9</td>\n    </tr>\n    <tr>\n      <th>Dufferin, Dovercourt Village</th>\n      <td>13</td>\n      <td>13</td>\n      <td>13</td>\n      <td>13</td>\n      <td>13</td>\n      <td>13</td>\n    </tr>\n    <tr>\n      <th>First Canadian Place, Underground city</th>\n      <td>100</td>\n      <td>100</td>\n      <td>100</td>\n      <td>100</td>\n      <td>100</td>\n      <td>100</td>\n    </tr>\n    <tr>\n      <th>Forest Hill North &amp; West, Forest Hill Road Park</th>\n      <td>4</td>\n      <td>4</td>\n      <td>4</td>\n      <td>4</td>\n      <td>4</td>\n      <td>4</td>\n    </tr>\n    <tr>\n      <th>Garden District, Ryerson</th>\n      <td>100</td>\n      <td>100</td>\n      <td>100</td>\n      <td>100</td>\n      <td>100</td>\n      <td>100</td>\n    </tr>\n    <tr>\n      <th>Harbourfront East, Union Station, Toronto Islands</th>\n      <td>100</td>\n      <td>100</td>\n      <td>100</td>\n      <td>100</td>\n      <td>100</td>\n      <td>100</td>\n    </tr>\n    <tr>\n      <th>High Park, The Junction South</th>\n      <td>25</td>\n      <td>25</td>\n      <td>25</td>\n      <td>25</td>\n      <td>25</td>\n      <td>25</td>\n    </tr>\n    <tr>\n      <th>India Bazaar, The Beaches West</th>\n      <td>19</td>\n      <td>19</td>\n      <td>19</td>\n      <td>19</td>\n      <td>19</td>\n      <td>19</td>\n    </tr>\n    <tr>\n      <th>Kensington Market, Chinatown, Grange Park</th>\n      <td>74</td>\n      <td>74</td>\n      <td>74</td>\n      <td>74</td>\n      <td>74</td>\n      <td>74</td>\n    </tr>\n    <tr>\n      <th>Lawrence Park</th>\n      <td>3</td>\n      <td>3</td>\n      <td>3</td>\n      <td>3</td>\n      <td>3</td>\n      <td>3</td>\n    </tr>\n    <tr>\n      <th>Little Portugal, Trinity</th>\n      <td>45</td>\n      <td>45</td>\n      <td>45</td>\n      <td>45</td>\n      <td>45</td>\n      <td>45</td>\n    </tr>\n    <tr>\n      <th>Moore Park, Summerhill East</th>\n      <td>2</td>\n      <td>2</td>\n      <td>2</td>\n      <td>2</td>\n      <td>2</td>\n      <td>2</td>\n    </tr>\n    <tr>\n      <th>North Toronto West,  Lawrence Park</th>\n      <td>18</td>\n      <td>18</td>\n      <td>18</td>\n      <td>18</td>\n      <td>18</td>\n      <td>18</td>\n    </tr>\n    <tr>\n      <th>Parkdale, Roncesvalles</th>\n      <td>14</td>\n      <td>14</td>\n      <td>14</td>\n      <td>14</td>\n      <td>14</td>\n      <td>14</td>\n    </tr>\n    <tr>\n      <th>Queen's Park, Ontario Provincial Government</th>\n      <td>33</td>\n      <td>33</td>\n      <td>33</td>\n      <td>33</td>\n      <td>33</td>\n      <td>33</td>\n    </tr>\n    <tr>\n      <th>Regent Park, Harbourfront</th>\n      <td>44</td>\n      <td>44</td>\n      <td>44</td>\n      <td>44</td>\n      <td>44</td>\n      <td>44</td>\n    </tr>\n    <tr>\n      <th>Richmond, Adelaide, King</th>\n      <td>100</td>\n      <td>100</td>\n      <td>100</td>\n      <td>100</td>\n      <td>100</td>\n      <td>100</td>\n    </tr>\n    <tr>\n      <th>Rosedale</th>\n      <td>4</td>\n      <td>4</td>\n      <td>4</td>\n      <td>4</td>\n      <td>4</td>\n      <td>4</td>\n    </tr>\n    <tr>\n      <th>Roselawn</th>\n      <td>2</td>\n      <td>2</td>\n      <td>2</td>\n      <td>2</td>\n      <td>2</td>\n      <td>2</td>\n    </tr>\n    <tr>\n      <th>Runnymede, Swansea</th>\n      <td>33</td>\n      <td>33</td>\n      <td>33</td>\n      <td>33</td>\n      <td>33</td>\n      <td>33</td>\n    </tr>\n    <tr>\n      <th>St. James Town</th>\n      <td>85</td>\n      <td>85</td>\n      <td>85</td>\n      <td>85</td>\n      <td>85</td>\n      <td>85</td>\n    </tr>\n    <tr>\n      <th>St. James Town, Cabbagetown</th>\n      <td>48</td>\n      <td>48</td>\n      <td>48</td>\n      <td>48</td>\n      <td>48</td>\n      <td>48</td>\n    </tr>\n    <tr>\n      <th>Stn A PO Boxes</th>\n      <td>96</td>\n      <td>96</td>\n      <td>96</td>\n      <td>96</td>\n      <td>96</td>\n      <td>96</td>\n    </tr>\n    <tr>\n      <th>Studio District</th>\n      <td>37</td>\n      <td>37</td>\n      <td>37</td>\n      <td>37</td>\n      <td>37</td>\n      <td>37</td>\n    </tr>\n    <tr>\n      <th>Summerhill West, Rathnelly, South Hill, Forest Hill SE, Deer Park</th>\n      <td>14</td>\n      <td>14</td>\n      <td>14</td>\n      <td>14</td>\n      <td>14</td>\n      <td>14</td>\n    </tr>\n    <tr>\n      <th>The Annex, North Midtown, Yorkville</th>\n      <td>19</td>\n      <td>19</td>\n      <td>19</td>\n      <td>19</td>\n      <td>19</td>\n      <td>19</td>\n    </tr>\n    <tr>\n      <th>The Beaches</th>\n      <td>4</td>\n      <td>4</td>\n      <td>4</td>\n      <td>4</td>\n      <td>4</td>\n      <td>4</td>\n    </tr>\n    <tr>\n      <th>The Danforth West, Riverdale</th>\n      <td>43</td>\n      <td>43</td>\n      <td>43</td>\n      <td>43</td>\n      <td>43</td>\n      <td>43</td>\n    </tr>\n    <tr>\n      <th>Toronto Dominion Centre, Design Exchange</th>\n      <td>100</td>\n      <td>100</td>\n      <td>100</td>\n      <td>100</td>\n      <td>100</td>\n      <td>100</td>\n    </tr>\n    <tr>\n      <th>University of Toronto, Harbord</th>\n      <td>34</td>\n      <td>34</td>\n      <td>34</td>\n      <td>34</td>\n      <td>34</td>\n      <td>34</td>\n    </tr>\n  </tbody>\n</table>\n</div>"
     },
     "metadata": {},
     "execution_count": 36
    }
   ],
   "source": [
    "Toronto_venues.groupby('Neighborhood').count()"
   ]
  },
  {
   "cell_type": "code",
   "execution_count": 37,
   "metadata": {},
   "outputs": [
    {
     "output_type": "stream",
     "name": "stdout",
     "text": [
      "There are 237 uniques categories.\n"
     ]
    }
   ],
   "source": [
    "print('There are {} uniques categories.'.format(len(Toronto_venues['Venue Category'].unique())))"
   ]
  },
  {
   "source": [
    "### I want to know the frequency for every category in the different neighborhoods then I´m going to apply one hot encoding"
   ],
   "cell_type": "markdown",
   "metadata": {}
  },
  {
   "cell_type": "code",
   "execution_count": 38,
   "metadata": {},
   "outputs": [
    {
     "output_type": "execute_result",
     "data": {
      "text/plain": [
       "   Yoga Studio  Afghan Restaurant  Airport  Airport Food Court  Airport Gate  \\\n",
       "0            0                  0        0                   0             0   \n",
       "1            0                  0        0                   0             0   \n",
       "2            0                  0        0                   0             0   \n",
       "3            0                  0        0                   0             0   \n",
       "4            0                  0        0                   0             0   \n",
       "\n",
       "   Airport Lounge  Airport Service  Airport Terminal  American Restaurant  \\\n",
       "0               0                0                 0                    0   \n",
       "1               0                0                 0                    0   \n",
       "2               0                0                 0                    0   \n",
       "3               0                0                 0                    0   \n",
       "4               0                0                 0                    0   \n",
       "\n",
       "   Antique Shop  ...  Theater  Theme Restaurant  Toy / Game Store  Trail  \\\n",
       "0             0  ...        0                 0                 0      0   \n",
       "1             0  ...        0                 0                 0      0   \n",
       "2             0  ...        0                 0                 0      0   \n",
       "3             0  ...        0                 0                 0      0   \n",
       "4             0  ...        0                 0                 0      0   \n",
       "\n",
       "   Train Station  Vegetarian / Vegan Restaurant  Video Game Store  \\\n",
       "0              0                              0                 0   \n",
       "1              0                              0                 0   \n",
       "2              0                              0                 0   \n",
       "3              0                              0                 0   \n",
       "4              0                              0                 0   \n",
       "\n",
       "   Vietnamese Restaurant  Wine Bar  Women's Store  \n",
       "0                      0         0              0  \n",
       "1                      0         0              0  \n",
       "2                      0         0              0  \n",
       "3                      0         0              0  \n",
       "4                      0         0              0  \n",
       "\n",
       "[5 rows x 237 columns]"
      ],
      "text/html": "<div>\n<style scoped>\n    .dataframe tbody tr th:only-of-type {\n        vertical-align: middle;\n    }\n\n    .dataframe tbody tr th {\n        vertical-align: top;\n    }\n\n    .dataframe thead th {\n        text-align: right;\n    }\n</style>\n<table border=\"1\" class=\"dataframe\">\n  <thead>\n    <tr style=\"text-align: right;\">\n      <th></th>\n      <th>Yoga Studio</th>\n      <th>Afghan Restaurant</th>\n      <th>Airport</th>\n      <th>Airport Food Court</th>\n      <th>Airport Gate</th>\n      <th>Airport Lounge</th>\n      <th>Airport Service</th>\n      <th>Airport Terminal</th>\n      <th>American Restaurant</th>\n      <th>Antique Shop</th>\n      <th>...</th>\n      <th>Theater</th>\n      <th>Theme Restaurant</th>\n      <th>Toy / Game Store</th>\n      <th>Trail</th>\n      <th>Train Station</th>\n      <th>Vegetarian / Vegan Restaurant</th>\n      <th>Video Game Store</th>\n      <th>Vietnamese Restaurant</th>\n      <th>Wine Bar</th>\n      <th>Women's Store</th>\n    </tr>\n  </thead>\n  <tbody>\n    <tr>\n      <th>0</th>\n      <td>0</td>\n      <td>0</td>\n      <td>0</td>\n      <td>0</td>\n      <td>0</td>\n      <td>0</td>\n      <td>0</td>\n      <td>0</td>\n      <td>0</td>\n      <td>0</td>\n      <td>...</td>\n      <td>0</td>\n      <td>0</td>\n      <td>0</td>\n      <td>0</td>\n      <td>0</td>\n      <td>0</td>\n      <td>0</td>\n      <td>0</td>\n      <td>0</td>\n      <td>0</td>\n    </tr>\n    <tr>\n      <th>1</th>\n      <td>0</td>\n      <td>0</td>\n      <td>0</td>\n      <td>0</td>\n      <td>0</td>\n      <td>0</td>\n      <td>0</td>\n      <td>0</td>\n      <td>0</td>\n      <td>0</td>\n      <td>...</td>\n      <td>0</td>\n      <td>0</td>\n      <td>0</td>\n      <td>0</td>\n      <td>0</td>\n      <td>0</td>\n      <td>0</td>\n      <td>0</td>\n      <td>0</td>\n      <td>0</td>\n    </tr>\n    <tr>\n      <th>2</th>\n      <td>0</td>\n      <td>0</td>\n      <td>0</td>\n      <td>0</td>\n      <td>0</td>\n      <td>0</td>\n      <td>0</td>\n      <td>0</td>\n      <td>0</td>\n      <td>0</td>\n      <td>...</td>\n      <td>0</td>\n      <td>0</td>\n      <td>0</td>\n      <td>0</td>\n      <td>0</td>\n      <td>0</td>\n      <td>0</td>\n      <td>0</td>\n      <td>0</td>\n      <td>0</td>\n    </tr>\n    <tr>\n      <th>3</th>\n      <td>0</td>\n      <td>0</td>\n      <td>0</td>\n      <td>0</td>\n      <td>0</td>\n      <td>0</td>\n      <td>0</td>\n      <td>0</td>\n      <td>0</td>\n      <td>0</td>\n      <td>...</td>\n      <td>0</td>\n      <td>0</td>\n      <td>0</td>\n      <td>0</td>\n      <td>0</td>\n      <td>0</td>\n      <td>0</td>\n      <td>0</td>\n      <td>0</td>\n      <td>0</td>\n    </tr>\n    <tr>\n      <th>4</th>\n      <td>0</td>\n      <td>0</td>\n      <td>0</td>\n      <td>0</td>\n      <td>0</td>\n      <td>0</td>\n      <td>0</td>\n      <td>0</td>\n      <td>0</td>\n      <td>0</td>\n      <td>...</td>\n      <td>0</td>\n      <td>0</td>\n      <td>0</td>\n      <td>0</td>\n      <td>0</td>\n      <td>0</td>\n      <td>0</td>\n      <td>0</td>\n      <td>0</td>\n      <td>0</td>\n    </tr>\n  </tbody>\n</table>\n<p>5 rows × 237 columns</p>\n</div>"
     },
     "metadata": {},
     "execution_count": 38
    }
   ],
   "source": [
    "# one hot encoding\n",
    "toronto_onehot = pd.get_dummies(Toronto_venues[['Venue Category']], prefix=\"\", prefix_sep=\"\")\n",
    "\n",
    "# add neighborhood column back to dataframe\n",
    "toronto_onehot['Neighborhood'] = Toronto_venues['Neighborhood'] \n",
    "\n",
    "# move neighborhood column to the first column\n",
    "fixed_columns = [toronto_onehot.columns[-1]] + list(toronto_onehot.columns[:-1])\n",
    "toronto_onehot = toronto_onehot[fixed_columns]\n",
    "\n",
    "toronto_onehot.head()"
   ]
  },
  {
   "cell_type": "code",
   "execution_count": 39,
   "metadata": {},
   "outputs": [
    {
     "output_type": "execute_result",
     "data": {
      "text/plain": [
       "(1624, 237)"
      ]
     },
     "metadata": {},
     "execution_count": 39
    }
   ],
   "source": [
    "toronto_onehot.shape"
   ]
  },
  {
   "source": [
    "### To know the frequency I'm going to take the mean of the frequency of occurrence of each category"
   ],
   "cell_type": "markdown",
   "metadata": {}
  },
  {
   "cell_type": "code",
   "execution_count": 40,
   "metadata": {},
   "outputs": [
    {
     "output_type": "execute_result",
     "data": {
      "text/plain": [
       "                                         Neighborhood  Yoga Studio  \\\n",
       "0                                         Berczy Park     0.000000   \n",
       "1        Brockton, Parkdale Village, Exhibition Place     0.000000   \n",
       "2   Business reply mail Processing Centre, South C...     0.000000   \n",
       "3   CN Tower, King and Spadina, Railway Lands, Har...     0.000000   \n",
       "4                                  Central Bay Street     0.014706   \n",
       "5                                            Christie     0.000000   \n",
       "6                                Church and Wellesley     0.026667   \n",
       "7                      Commerce Court, Victoria Hotel     0.000000   \n",
       "8                                          Davisville     0.000000   \n",
       "9                                    Davisville North     0.000000   \n",
       "10                       Dufferin, Dovercourt Village     0.000000   \n",
       "11             First Canadian Place, Underground city     0.000000   \n",
       "12    Forest Hill North & West, Forest Hill Road Park     0.000000   \n",
       "13                           Garden District, Ryerson     0.000000   \n",
       "14  Harbourfront East, Union Station, Toronto Islands     0.000000   \n",
       "15                      High Park, The Junction South     0.000000   \n",
       "16                     India Bazaar, The Beaches West     0.000000   \n",
       "17          Kensington Market, Chinatown, Grange Park     0.000000   \n",
       "18                                      Lawrence Park     0.000000   \n",
       "19                           Little Portugal, Trinity     0.022222   \n",
       "20                        Moore Park, Summerhill East     0.000000   \n",
       "21                 North Toronto West,  Lawrence Park     0.055556   \n",
       "22                             Parkdale, Roncesvalles     0.000000   \n",
       "23        Queen's Park, Ontario Provincial Government     0.030303   \n",
       "24                          Regent Park, Harbourfront     0.022727   \n",
       "25                           Richmond, Adelaide, King     0.000000   \n",
       "26                                           Rosedale     0.000000   \n",
       "27                                           Roselawn     0.000000   \n",
       "28                                 Runnymede, Swansea     0.030303   \n",
       "29                                     St. James Town     0.000000   \n",
       "30                        St. James Town, Cabbagetown     0.000000   \n",
       "31                                     Stn A PO Boxes     0.010417   \n",
       "32                                    Studio District     0.027027   \n",
       "33  Summerhill West, Rathnelly, South Hill, Forest...     0.000000   \n",
       "34                The Annex, North Midtown, Yorkville     0.000000   \n",
       "35                                        The Beaches     0.000000   \n",
       "36                       The Danforth West, Riverdale     0.023256   \n",
       "37           Toronto Dominion Centre, Design Exchange     0.000000   \n",
       "38                     University of Toronto, Harbord     0.029412   \n",
       "\n",
       "    Afghan Restaurant  Airport  Airport Food Court  Airport Gate  \\\n",
       "0            0.000000   0.0000              0.0000        0.0000   \n",
       "1            0.000000   0.0000              0.0000        0.0000   \n",
       "2            0.000000   0.0000              0.0000        0.0000   \n",
       "3            0.000000   0.0625              0.0625        0.0625   \n",
       "4            0.000000   0.0000              0.0000        0.0000   \n",
       "5            0.000000   0.0000              0.0000        0.0000   \n",
       "6            0.013333   0.0000              0.0000        0.0000   \n",
       "7            0.000000   0.0000              0.0000        0.0000   \n",
       "8            0.000000   0.0000              0.0000        0.0000   \n",
       "9            0.000000   0.0000              0.0000        0.0000   \n",
       "10           0.000000   0.0000              0.0000        0.0000   \n",
       "11           0.000000   0.0000              0.0000        0.0000   \n",
       "12           0.000000   0.0000              0.0000        0.0000   \n",
       "13           0.000000   0.0000              0.0000        0.0000   \n",
       "14           0.000000   0.0000              0.0000        0.0000   \n",
       "15           0.000000   0.0000              0.0000        0.0000   \n",
       "16           0.000000   0.0000              0.0000        0.0000   \n",
       "17           0.000000   0.0000              0.0000        0.0000   \n",
       "18           0.000000   0.0000              0.0000        0.0000   \n",
       "19           0.000000   0.0000              0.0000        0.0000   \n",
       "20           0.000000   0.0000              0.0000        0.0000   \n",
       "21           0.000000   0.0000              0.0000        0.0000   \n",
       "22           0.000000   0.0000              0.0000        0.0000   \n",
       "23           0.000000   0.0000              0.0000        0.0000   \n",
       "24           0.000000   0.0000              0.0000        0.0000   \n",
       "25           0.000000   0.0000              0.0000        0.0000   \n",
       "26           0.000000   0.0000              0.0000        0.0000   \n",
       "27           0.000000   0.0000              0.0000        0.0000   \n",
       "28           0.000000   0.0000              0.0000        0.0000   \n",
       "29           0.000000   0.0000              0.0000        0.0000   \n",
       "30           0.000000   0.0000              0.0000        0.0000   \n",
       "31           0.000000   0.0000              0.0000        0.0000   \n",
       "32           0.000000   0.0000              0.0000        0.0000   \n",
       "33           0.000000   0.0000              0.0000        0.0000   \n",
       "34           0.000000   0.0000              0.0000        0.0000   \n",
       "35           0.000000   0.0000              0.0000        0.0000   \n",
       "36           0.000000   0.0000              0.0000        0.0000   \n",
       "37           0.000000   0.0000              0.0000        0.0000   \n",
       "38           0.000000   0.0000              0.0000        0.0000   \n",
       "\n",
       "    Airport Lounge  Airport Service  Airport Terminal  American Restaurant  \\\n",
       "0            0.000            0.000            0.0000             0.000000   \n",
       "1            0.000            0.000            0.0000             0.000000   \n",
       "2            0.000            0.000            0.0000             0.000000   \n",
       "3            0.125            0.125            0.0625             0.000000   \n",
       "4            0.000            0.000            0.0000             0.000000   \n",
       "5            0.000            0.000            0.0000             0.000000   \n",
       "6            0.000            0.000            0.0000             0.013333   \n",
       "7            0.000            0.000            0.0000             0.030000   \n",
       "8            0.000            0.000            0.0000             0.000000   \n",
       "9            0.000            0.000            0.0000             0.000000   \n",
       "10           0.000            0.000            0.0000             0.000000   \n",
       "11           0.000            0.000            0.0000             0.030000   \n",
       "12           0.000            0.000            0.0000             0.000000   \n",
       "13           0.000            0.000            0.0000             0.000000   \n",
       "14           0.000            0.000            0.0000             0.000000   \n",
       "15           0.000            0.000            0.0000             0.000000   \n",
       "16           0.000            0.000            0.0000             0.000000   \n",
       "17           0.000            0.000            0.0000             0.000000   \n",
       "18           0.000            0.000            0.0000             0.000000   \n",
       "19           0.000            0.000            0.0000             0.000000   \n",
       "20           0.000            0.000            0.0000             0.000000   \n",
       "21           0.000            0.000            0.0000             0.000000   \n",
       "22           0.000            0.000            0.0000             0.000000   \n",
       "23           0.000            0.000            0.0000             0.000000   \n",
       "24           0.000            0.000            0.0000             0.000000   \n",
       "25           0.000            0.000            0.0000             0.020000   \n",
       "26           0.000            0.000            0.0000             0.000000   \n",
       "27           0.000            0.000            0.0000             0.000000   \n",
       "28           0.000            0.000            0.0000             0.000000   \n",
       "29           0.000            0.000            0.0000             0.035294   \n",
       "30           0.000            0.000            0.0000             0.000000   \n",
       "31           0.000            0.000            0.0000             0.010417   \n",
       "32           0.000            0.000            0.0000             0.054054   \n",
       "33           0.000            0.000            0.0000             0.071429   \n",
       "34           0.000            0.000            0.0000             0.000000   \n",
       "35           0.000            0.000            0.0000             0.000000   \n",
       "36           0.000            0.000            0.0000             0.023256   \n",
       "37           0.000            0.000            0.0000             0.030000   \n",
       "38           0.000            0.000            0.0000             0.000000   \n",
       "\n",
       "    ...   Theater  Theme Restaurant  Toy / Game Store     Trail  \\\n",
       "0   ...  0.000000          0.000000          0.000000  0.000000   \n",
       "1   ...  0.000000          0.000000          0.000000  0.000000   \n",
       "2   ...  0.000000          0.000000          0.000000  0.000000   \n",
       "3   ...  0.000000          0.000000          0.000000  0.000000   \n",
       "4   ...  0.000000          0.000000          0.000000  0.000000   \n",
       "5   ...  0.000000          0.000000          0.000000  0.000000   \n",
       "6   ...  0.013333          0.013333          0.000000  0.000000   \n",
       "7   ...  0.000000          0.000000          0.000000  0.000000   \n",
       "8   ...  0.000000          0.000000          0.030303  0.000000   \n",
       "9   ...  0.000000          0.000000          0.000000  0.000000   \n",
       "10  ...  0.000000          0.000000          0.000000  0.000000   \n",
       "11  ...  0.010000          0.000000          0.000000  0.000000   \n",
       "12  ...  0.000000          0.000000          0.000000  0.250000   \n",
       "13  ...  0.020000          0.000000          0.010000  0.000000   \n",
       "14  ...  0.010000          0.000000          0.000000  0.000000   \n",
       "15  ...  0.000000          0.000000          0.000000  0.000000   \n",
       "16  ...  0.000000          0.000000          0.000000  0.000000   \n",
       "17  ...  0.000000          0.000000          0.000000  0.000000   \n",
       "18  ...  0.000000          0.000000          0.000000  0.000000   \n",
       "19  ...  0.022222          0.000000          0.000000  0.000000   \n",
       "20  ...  0.000000          0.000000          0.000000  0.500000   \n",
       "21  ...  0.000000          0.000000          0.000000  0.000000   \n",
       "22  ...  0.000000          0.000000          0.000000  0.000000   \n",
       "23  ...  0.030303          0.000000          0.000000  0.000000   \n",
       "24  ...  0.045455          0.000000          0.000000  0.000000   \n",
       "25  ...  0.010000          0.000000          0.010000  0.000000   \n",
       "26  ...  0.000000          0.000000          0.000000  0.250000   \n",
       "27  ...  0.000000          0.000000          0.000000  0.000000   \n",
       "28  ...  0.000000          0.000000          0.000000  0.000000   \n",
       "29  ...  0.011765          0.000000          0.000000  0.000000   \n",
       "30  ...  0.000000          0.000000          0.000000  0.000000   \n",
       "31  ...  0.000000          0.000000          0.000000  0.000000   \n",
       "32  ...  0.000000          0.000000          0.000000  0.000000   \n",
       "33  ...  0.000000          0.000000          0.000000  0.000000   \n",
       "34  ...  0.000000          0.000000          0.000000  0.000000   \n",
       "35  ...  0.000000          0.000000          0.000000  0.250000   \n",
       "36  ...  0.000000          0.000000          0.000000  0.023256   \n",
       "37  ...  0.010000          0.000000          0.000000  0.000000   \n",
       "38  ...  0.029412          0.000000          0.000000  0.000000   \n",
       "\n",
       "    Train Station  Vegetarian / Vegan Restaurant  Video Game Store  \\\n",
       "0            0.00                       0.018182          0.000000   \n",
       "1            0.00                       0.000000          0.000000   \n",
       "2            0.00                       0.000000          0.000000   \n",
       "3            0.00                       0.000000          0.000000   \n",
       "4            0.00                       0.014706          0.000000   \n",
       "5            0.00                       0.000000          0.000000   \n",
       "6            0.00                       0.000000          0.000000   \n",
       "7            0.00                       0.020000          0.000000   \n",
       "8            0.00                       0.000000          0.000000   \n",
       "9            0.00                       0.000000          0.000000   \n",
       "10           0.00                       0.000000          0.000000   \n",
       "11           0.01                       0.010000          0.000000   \n",
       "12           0.00                       0.000000          0.000000   \n",
       "13           0.00                       0.000000          0.010000   \n",
       "14           0.01                       0.010000          0.000000   \n",
       "15           0.00                       0.000000          0.000000   \n",
       "16           0.00                       0.000000          0.000000   \n",
       "17           0.00                       0.054054          0.000000   \n",
       "18           0.00                       0.000000          0.000000   \n",
       "19           0.00                       0.022222          0.000000   \n",
       "20           0.00                       0.000000          0.000000   \n",
       "21           0.00                       0.000000          0.000000   \n",
       "22           0.00                       0.000000          0.000000   \n",
       "23           0.00                       0.000000          0.000000   \n",
       "24           0.00                       0.000000          0.000000   \n",
       "25           0.00                       0.010000          0.000000   \n",
       "26           0.00                       0.000000          0.000000   \n",
       "27           0.00                       0.000000          0.000000   \n",
       "28           0.00                       0.030303          0.000000   \n",
       "29           0.00                       0.011765          0.000000   \n",
       "30           0.00                       0.000000          0.000000   \n",
       "31           0.00                       0.010417          0.000000   \n",
       "32           0.00                       0.000000          0.000000   \n",
       "33           0.00                       0.000000          0.000000   \n",
       "34           0.00                       0.000000          0.000000   \n",
       "35           0.00                       0.000000          0.000000   \n",
       "36           0.00                       0.000000          0.000000   \n",
       "37           0.01                       0.010000          0.000000   \n",
       "38           0.00                       0.000000          0.029412   \n",
       "\n",
       "    Vietnamese Restaurant  Wine Bar  Women's Store  \n",
       "0                0.000000  0.000000           0.00  \n",
       "1                0.000000  0.000000           0.00  \n",
       "2                0.000000  0.000000           0.00  \n",
       "3                0.000000  0.000000           0.00  \n",
       "4                0.000000  0.014706           0.00  \n",
       "5                0.000000  0.000000           0.00  \n",
       "6                0.013333  0.000000           0.00  \n",
       "7                0.000000  0.010000           0.00  \n",
       "8                0.000000  0.000000           0.00  \n",
       "9                0.000000  0.000000           0.00  \n",
       "10               0.000000  0.000000           0.00  \n",
       "11               0.000000  0.010000           0.00  \n",
       "12               0.000000  0.000000           0.00  \n",
       "13               0.010000  0.010000           0.00  \n",
       "14               0.000000  0.010000           0.00  \n",
       "15               0.000000  0.000000           0.00  \n",
       "16               0.000000  0.000000           0.00  \n",
       "17               0.040541  0.013514           0.00  \n",
       "18               0.000000  0.000000           0.00  \n",
       "19               0.044444  0.022222           0.00  \n",
       "20               0.000000  0.000000           0.00  \n",
       "21               0.000000  0.000000           0.00  \n",
       "22               0.000000  0.000000           0.00  \n",
       "23               0.000000  0.000000           0.00  \n",
       "24               0.000000  0.000000           0.00  \n",
       "25               0.000000  0.000000           0.01  \n",
       "26               0.000000  0.000000           0.00  \n",
       "27               0.000000  0.000000           0.00  \n",
       "28               0.000000  0.000000           0.00  \n",
       "29               0.000000  0.011765           0.00  \n",
       "30               0.000000  0.000000           0.00  \n",
       "31               0.000000  0.000000           0.00  \n",
       "32               0.000000  0.027027           0.00  \n",
       "33               0.071429  0.000000           0.00  \n",
       "34               0.000000  0.000000           0.00  \n",
       "35               0.000000  0.000000           0.00  \n",
       "36               0.000000  0.000000           0.00  \n",
       "37               0.000000  0.010000           0.00  \n",
       "38               0.000000  0.000000           0.00  \n",
       "\n",
       "[39 rows x 237 columns]"
      ],
      "text/html": "<div>\n<style scoped>\n    .dataframe tbody tr th:only-of-type {\n        vertical-align: middle;\n    }\n\n    .dataframe tbody tr th {\n        vertical-align: top;\n    }\n\n    .dataframe thead th {\n        text-align: right;\n    }\n</style>\n<table border=\"1\" class=\"dataframe\">\n  <thead>\n    <tr style=\"text-align: right;\">\n      <th></th>\n      <th>Neighborhood</th>\n      <th>Yoga Studio</th>\n      <th>Afghan Restaurant</th>\n      <th>Airport</th>\n      <th>Airport Food Court</th>\n      <th>Airport Gate</th>\n      <th>Airport Lounge</th>\n      <th>Airport Service</th>\n      <th>Airport Terminal</th>\n      <th>American Restaurant</th>\n      <th>...</th>\n      <th>Theater</th>\n      <th>Theme Restaurant</th>\n      <th>Toy / Game Store</th>\n      <th>Trail</th>\n      <th>Train Station</th>\n      <th>Vegetarian / Vegan Restaurant</th>\n      <th>Video Game Store</th>\n      <th>Vietnamese Restaurant</th>\n      <th>Wine Bar</th>\n      <th>Women's Store</th>\n    </tr>\n  </thead>\n  <tbody>\n    <tr>\n      <th>0</th>\n      <td>Berczy Park</td>\n      <td>0.000000</td>\n      <td>0.000000</td>\n      <td>0.0000</td>\n      <td>0.0000</td>\n      <td>0.0000</td>\n      <td>0.000</td>\n      <td>0.000</td>\n      <td>0.0000</td>\n      <td>0.000000</td>\n      <td>...</td>\n      <td>0.000000</td>\n      <td>0.000000</td>\n      <td>0.000000</td>\n      <td>0.000000</td>\n      <td>0.00</td>\n      <td>0.018182</td>\n      <td>0.000000</td>\n      <td>0.000000</td>\n      <td>0.000000</td>\n      <td>0.00</td>\n    </tr>\n    <tr>\n      <th>1</th>\n      <td>Brockton, Parkdale Village, Exhibition Place</td>\n      <td>0.000000</td>\n      <td>0.000000</td>\n      <td>0.0000</td>\n      <td>0.0000</td>\n      <td>0.0000</td>\n      <td>0.000</td>\n      <td>0.000</td>\n      <td>0.0000</td>\n      <td>0.000000</td>\n      <td>...</td>\n      <td>0.000000</td>\n      <td>0.000000</td>\n      <td>0.000000</td>\n      <td>0.000000</td>\n      <td>0.00</td>\n      <td>0.000000</td>\n      <td>0.000000</td>\n      <td>0.000000</td>\n      <td>0.000000</td>\n      <td>0.00</td>\n    </tr>\n    <tr>\n      <th>2</th>\n      <td>Business reply mail Processing Centre, South C...</td>\n      <td>0.000000</td>\n      <td>0.000000</td>\n      <td>0.0000</td>\n      <td>0.0000</td>\n      <td>0.0000</td>\n      <td>0.000</td>\n      <td>0.000</td>\n      <td>0.0000</td>\n      <td>0.000000</td>\n      <td>...</td>\n      <td>0.000000</td>\n      <td>0.000000</td>\n      <td>0.000000</td>\n      <td>0.000000</td>\n      <td>0.00</td>\n      <td>0.000000</td>\n      <td>0.000000</td>\n      <td>0.000000</td>\n      <td>0.000000</td>\n      <td>0.00</td>\n    </tr>\n    <tr>\n      <th>3</th>\n      <td>CN Tower, King and Spadina, Railway Lands, Har...</td>\n      <td>0.000000</td>\n      <td>0.000000</td>\n      <td>0.0625</td>\n      <td>0.0625</td>\n      <td>0.0625</td>\n      <td>0.125</td>\n      <td>0.125</td>\n      <td>0.0625</td>\n      <td>0.000000</td>\n      <td>...</td>\n      <td>0.000000</td>\n      <td>0.000000</td>\n      <td>0.000000</td>\n      <td>0.000000</td>\n      <td>0.00</td>\n      <td>0.000000</td>\n      <td>0.000000</td>\n      <td>0.000000</td>\n      <td>0.000000</td>\n      <td>0.00</td>\n    </tr>\n    <tr>\n      <th>4</th>\n      <td>Central Bay Street</td>\n      <td>0.014706</td>\n      <td>0.000000</td>\n      <td>0.0000</td>\n      <td>0.0000</td>\n      <td>0.0000</td>\n      <td>0.000</td>\n      <td>0.000</td>\n      <td>0.0000</td>\n      <td>0.000000</td>\n      <td>...</td>\n      <td>0.000000</td>\n      <td>0.000000</td>\n      <td>0.000000</td>\n      <td>0.000000</td>\n      <td>0.00</td>\n      <td>0.014706</td>\n      <td>0.000000</td>\n      <td>0.000000</td>\n      <td>0.014706</td>\n      <td>0.00</td>\n    </tr>\n    <tr>\n      <th>5</th>\n      <td>Christie</td>\n      <td>0.000000</td>\n      <td>0.000000</td>\n      <td>0.0000</td>\n      <td>0.0000</td>\n      <td>0.0000</td>\n      <td>0.000</td>\n      <td>0.000</td>\n      <td>0.0000</td>\n      <td>0.000000</td>\n      <td>...</td>\n      <td>0.000000</td>\n      <td>0.000000</td>\n      <td>0.000000</td>\n      <td>0.000000</td>\n      <td>0.00</td>\n      <td>0.000000</td>\n      <td>0.000000</td>\n      <td>0.000000</td>\n      <td>0.000000</td>\n      <td>0.00</td>\n    </tr>\n    <tr>\n      <th>6</th>\n      <td>Church and Wellesley</td>\n      <td>0.026667</td>\n      <td>0.013333</td>\n      <td>0.0000</td>\n      <td>0.0000</td>\n      <td>0.0000</td>\n      <td>0.000</td>\n      <td>0.000</td>\n      <td>0.0000</td>\n      <td>0.013333</td>\n      <td>...</td>\n      <td>0.013333</td>\n      <td>0.013333</td>\n      <td>0.000000</td>\n      <td>0.000000</td>\n      <td>0.00</td>\n      <td>0.000000</td>\n      <td>0.000000</td>\n      <td>0.013333</td>\n      <td>0.000000</td>\n      <td>0.00</td>\n    </tr>\n    <tr>\n      <th>7</th>\n      <td>Commerce Court, Victoria Hotel</td>\n      <td>0.000000</td>\n      <td>0.000000</td>\n      <td>0.0000</td>\n      <td>0.0000</td>\n      <td>0.0000</td>\n      <td>0.000</td>\n      <td>0.000</td>\n      <td>0.0000</td>\n      <td>0.030000</td>\n      <td>...</td>\n      <td>0.000000</td>\n      <td>0.000000</td>\n      <td>0.000000</td>\n      <td>0.000000</td>\n      <td>0.00</td>\n      <td>0.020000</td>\n      <td>0.000000</td>\n      <td>0.000000</td>\n      <td>0.010000</td>\n      <td>0.00</td>\n    </tr>\n    <tr>\n      <th>8</th>\n      <td>Davisville</td>\n      <td>0.000000</td>\n      <td>0.000000</td>\n      <td>0.0000</td>\n      <td>0.0000</td>\n      <td>0.0000</td>\n      <td>0.000</td>\n      <td>0.000</td>\n      <td>0.0000</td>\n      <td>0.000000</td>\n      <td>...</td>\n      <td>0.000000</td>\n      <td>0.000000</td>\n      <td>0.030303</td>\n      <td>0.000000</td>\n      <td>0.00</td>\n      <td>0.000000</td>\n      <td>0.000000</td>\n      <td>0.000000</td>\n      <td>0.000000</td>\n      <td>0.00</td>\n    </tr>\n    <tr>\n      <th>9</th>\n      <td>Davisville North</td>\n      <td>0.000000</td>\n      <td>0.000000</td>\n      <td>0.0000</td>\n      <td>0.0000</td>\n      <td>0.0000</td>\n      <td>0.000</td>\n      <td>0.000</td>\n      <td>0.0000</td>\n      <td>0.000000</td>\n      <td>...</td>\n      <td>0.000000</td>\n      <td>0.000000</td>\n      <td>0.000000</td>\n      <td>0.000000</td>\n      <td>0.00</td>\n      <td>0.000000</td>\n      <td>0.000000</td>\n      <td>0.000000</td>\n      <td>0.000000</td>\n      <td>0.00</td>\n    </tr>\n    <tr>\n      <th>10</th>\n      <td>Dufferin, Dovercourt Village</td>\n      <td>0.000000</td>\n      <td>0.000000</td>\n      <td>0.0000</td>\n      <td>0.0000</td>\n      <td>0.0000</td>\n      <td>0.000</td>\n      <td>0.000</td>\n      <td>0.0000</td>\n      <td>0.000000</td>\n      <td>...</td>\n      <td>0.000000</td>\n      <td>0.000000</td>\n      <td>0.000000</td>\n      <td>0.000000</td>\n      <td>0.00</td>\n      <td>0.000000</td>\n      <td>0.000000</td>\n      <td>0.000000</td>\n      <td>0.000000</td>\n      <td>0.00</td>\n    </tr>\n    <tr>\n      <th>11</th>\n      <td>First Canadian Place, Underground city</td>\n      <td>0.000000</td>\n      <td>0.000000</td>\n      <td>0.0000</td>\n      <td>0.0000</td>\n      <td>0.0000</td>\n      <td>0.000</td>\n      <td>0.000</td>\n      <td>0.0000</td>\n      <td>0.030000</td>\n      <td>...</td>\n      <td>0.010000</td>\n      <td>0.000000</td>\n      <td>0.000000</td>\n      <td>0.000000</td>\n      <td>0.01</td>\n      <td>0.010000</td>\n      <td>0.000000</td>\n      <td>0.000000</td>\n      <td>0.010000</td>\n      <td>0.00</td>\n    </tr>\n    <tr>\n      <th>12</th>\n      <td>Forest Hill North &amp; West, Forest Hill Road Park</td>\n      <td>0.000000</td>\n      <td>0.000000</td>\n      <td>0.0000</td>\n      <td>0.0000</td>\n      <td>0.0000</td>\n      <td>0.000</td>\n      <td>0.000</td>\n      <td>0.0000</td>\n      <td>0.000000</td>\n      <td>...</td>\n      <td>0.000000</td>\n      <td>0.000000</td>\n      <td>0.000000</td>\n      <td>0.250000</td>\n      <td>0.00</td>\n      <td>0.000000</td>\n      <td>0.000000</td>\n      <td>0.000000</td>\n      <td>0.000000</td>\n      <td>0.00</td>\n    </tr>\n    <tr>\n      <th>13</th>\n      <td>Garden District, Ryerson</td>\n      <td>0.000000</td>\n      <td>0.000000</td>\n      <td>0.0000</td>\n      <td>0.0000</td>\n      <td>0.0000</td>\n      <td>0.000</td>\n      <td>0.000</td>\n      <td>0.0000</td>\n      <td>0.000000</td>\n      <td>...</td>\n      <td>0.020000</td>\n      <td>0.000000</td>\n      <td>0.010000</td>\n      <td>0.000000</td>\n      <td>0.00</td>\n      <td>0.000000</td>\n      <td>0.010000</td>\n      <td>0.010000</td>\n      <td>0.010000</td>\n      <td>0.00</td>\n    </tr>\n    <tr>\n      <th>14</th>\n      <td>Harbourfront East, Union Station, Toronto Islands</td>\n      <td>0.000000</td>\n      <td>0.000000</td>\n      <td>0.0000</td>\n      <td>0.0000</td>\n      <td>0.0000</td>\n      <td>0.000</td>\n      <td>0.000</td>\n      <td>0.0000</td>\n      <td>0.000000</td>\n      <td>...</td>\n      <td>0.010000</td>\n      <td>0.000000</td>\n      <td>0.000000</td>\n      <td>0.000000</td>\n      <td>0.01</td>\n      <td>0.010000</td>\n      <td>0.000000</td>\n      <td>0.000000</td>\n      <td>0.010000</td>\n      <td>0.00</td>\n    </tr>\n    <tr>\n      <th>15</th>\n      <td>High Park, The Junction South</td>\n      <td>0.000000</td>\n      <td>0.000000</td>\n      <td>0.0000</td>\n      <td>0.0000</td>\n      <td>0.0000</td>\n      <td>0.000</td>\n      <td>0.000</td>\n      <td>0.0000</td>\n      <td>0.000000</td>\n      <td>...</td>\n      <td>0.000000</td>\n      <td>0.000000</td>\n      <td>0.000000</td>\n      <td>0.000000</td>\n      <td>0.00</td>\n      <td>0.000000</td>\n      <td>0.000000</td>\n      <td>0.000000</td>\n      <td>0.000000</td>\n      <td>0.00</td>\n    </tr>\n    <tr>\n      <th>16</th>\n      <td>India Bazaar, The Beaches West</td>\n      <td>0.000000</td>\n      <td>0.000000</td>\n      <td>0.0000</td>\n      <td>0.0000</td>\n      <td>0.0000</td>\n      <td>0.000</td>\n      <td>0.000</td>\n      <td>0.0000</td>\n      <td>0.000000</td>\n      <td>...</td>\n      <td>0.000000</td>\n      <td>0.000000</td>\n      <td>0.000000</td>\n      <td>0.000000</td>\n      <td>0.00</td>\n      <td>0.000000</td>\n      <td>0.000000</td>\n      <td>0.000000</td>\n      <td>0.000000</td>\n      <td>0.00</td>\n    </tr>\n    <tr>\n      <th>17</th>\n      <td>Kensington Market, Chinatown, Grange Park</td>\n      <td>0.000000</td>\n      <td>0.000000</td>\n      <td>0.0000</td>\n      <td>0.0000</td>\n      <td>0.0000</td>\n      <td>0.000</td>\n      <td>0.000</td>\n      <td>0.0000</td>\n      <td>0.000000</td>\n      <td>...</td>\n      <td>0.000000</td>\n      <td>0.000000</td>\n      <td>0.000000</td>\n      <td>0.000000</td>\n      <td>0.00</td>\n      <td>0.054054</td>\n      <td>0.000000</td>\n      <td>0.040541</td>\n      <td>0.013514</td>\n      <td>0.00</td>\n    </tr>\n    <tr>\n      <th>18</th>\n      <td>Lawrence Park</td>\n      <td>0.000000</td>\n      <td>0.000000</td>\n      <td>0.0000</td>\n      <td>0.0000</td>\n      <td>0.0000</td>\n      <td>0.000</td>\n      <td>0.000</td>\n      <td>0.0000</td>\n      <td>0.000000</td>\n      <td>...</td>\n      <td>0.000000</td>\n      <td>0.000000</td>\n      <td>0.000000</td>\n      <td>0.000000</td>\n      <td>0.00</td>\n      <td>0.000000</td>\n      <td>0.000000</td>\n      <td>0.000000</td>\n      <td>0.000000</td>\n      <td>0.00</td>\n    </tr>\n    <tr>\n      <th>19</th>\n      <td>Little Portugal, Trinity</td>\n      <td>0.022222</td>\n      <td>0.000000</td>\n      <td>0.0000</td>\n      <td>0.0000</td>\n      <td>0.0000</td>\n      <td>0.000</td>\n      <td>0.000</td>\n      <td>0.0000</td>\n      <td>0.000000</td>\n      <td>...</td>\n      <td>0.022222</td>\n      <td>0.000000</td>\n      <td>0.000000</td>\n      <td>0.000000</td>\n      <td>0.00</td>\n      <td>0.022222</td>\n      <td>0.000000</td>\n      <td>0.044444</td>\n      <td>0.022222</td>\n      <td>0.00</td>\n    </tr>\n    <tr>\n      <th>20</th>\n      <td>Moore Park, Summerhill East</td>\n      <td>0.000000</td>\n      <td>0.000000</td>\n      <td>0.0000</td>\n      <td>0.0000</td>\n      <td>0.0000</td>\n      <td>0.000</td>\n      <td>0.000</td>\n      <td>0.0000</td>\n      <td>0.000000</td>\n      <td>...</td>\n      <td>0.000000</td>\n      <td>0.000000</td>\n      <td>0.000000</td>\n      <td>0.500000</td>\n      <td>0.00</td>\n      <td>0.000000</td>\n      <td>0.000000</td>\n      <td>0.000000</td>\n      <td>0.000000</td>\n      <td>0.00</td>\n    </tr>\n    <tr>\n      <th>21</th>\n      <td>North Toronto West,  Lawrence Park</td>\n      <td>0.055556</td>\n      <td>0.000000</td>\n      <td>0.0000</td>\n      <td>0.0000</td>\n      <td>0.0000</td>\n      <td>0.000</td>\n      <td>0.000</td>\n      <td>0.0000</td>\n      <td>0.000000</td>\n      <td>...</td>\n      <td>0.000000</td>\n      <td>0.000000</td>\n      <td>0.000000</td>\n      <td>0.000000</td>\n      <td>0.00</td>\n      <td>0.000000</td>\n      <td>0.000000</td>\n      <td>0.000000</td>\n      <td>0.000000</td>\n      <td>0.00</td>\n    </tr>\n    <tr>\n      <th>22</th>\n      <td>Parkdale, Roncesvalles</td>\n      <td>0.000000</td>\n      <td>0.000000</td>\n      <td>0.0000</td>\n      <td>0.0000</td>\n      <td>0.0000</td>\n      <td>0.000</td>\n      <td>0.000</td>\n      <td>0.0000</td>\n      <td>0.000000</td>\n      <td>...</td>\n      <td>0.000000</td>\n      <td>0.000000</td>\n      <td>0.000000</td>\n      <td>0.000000</td>\n      <td>0.00</td>\n      <td>0.000000</td>\n      <td>0.000000</td>\n      <td>0.000000</td>\n      <td>0.000000</td>\n      <td>0.00</td>\n    </tr>\n    <tr>\n      <th>23</th>\n      <td>Queen's Park, Ontario Provincial Government</td>\n      <td>0.030303</td>\n      <td>0.000000</td>\n      <td>0.0000</td>\n      <td>0.0000</td>\n      <td>0.0000</td>\n      <td>0.000</td>\n      <td>0.000</td>\n      <td>0.0000</td>\n      <td>0.000000</td>\n      <td>...</td>\n      <td>0.030303</td>\n      <td>0.000000</td>\n      <td>0.000000</td>\n      <td>0.000000</td>\n      <td>0.00</td>\n      <td>0.000000</td>\n      <td>0.000000</td>\n      <td>0.000000</td>\n      <td>0.000000</td>\n      <td>0.00</td>\n    </tr>\n    <tr>\n      <th>24</th>\n      <td>Regent Park, Harbourfront</td>\n      <td>0.022727</td>\n      <td>0.000000</td>\n      <td>0.0000</td>\n      <td>0.0000</td>\n      <td>0.0000</td>\n      <td>0.000</td>\n      <td>0.000</td>\n      <td>0.0000</td>\n      <td>0.000000</td>\n      <td>...</td>\n      <td>0.045455</td>\n      <td>0.000000</td>\n      <td>0.000000</td>\n      <td>0.000000</td>\n      <td>0.00</td>\n      <td>0.000000</td>\n      <td>0.000000</td>\n      <td>0.000000</td>\n      <td>0.000000</td>\n      <td>0.00</td>\n    </tr>\n    <tr>\n      <th>25</th>\n      <td>Richmond, Adelaide, King</td>\n      <td>0.000000</td>\n      <td>0.000000</td>\n      <td>0.0000</td>\n      <td>0.0000</td>\n      <td>0.0000</td>\n      <td>0.000</td>\n      <td>0.000</td>\n      <td>0.0000</td>\n      <td>0.020000</td>\n      <td>...</td>\n      <td>0.010000</td>\n      <td>0.000000</td>\n      <td>0.010000</td>\n      <td>0.000000</td>\n      <td>0.00</td>\n      <td>0.010000</td>\n      <td>0.000000</td>\n      <td>0.000000</td>\n      <td>0.000000</td>\n      <td>0.01</td>\n    </tr>\n    <tr>\n      <th>26</th>\n      <td>Rosedale</td>\n      <td>0.000000</td>\n      <td>0.000000</td>\n      <td>0.0000</td>\n      <td>0.0000</td>\n      <td>0.0000</td>\n      <td>0.000</td>\n      <td>0.000</td>\n      <td>0.0000</td>\n      <td>0.000000</td>\n      <td>...</td>\n      <td>0.000000</td>\n      <td>0.000000</td>\n      <td>0.000000</td>\n      <td>0.250000</td>\n      <td>0.00</td>\n      <td>0.000000</td>\n      <td>0.000000</td>\n      <td>0.000000</td>\n      <td>0.000000</td>\n      <td>0.00</td>\n    </tr>\n    <tr>\n      <th>27</th>\n      <td>Roselawn</td>\n      <td>0.000000</td>\n      <td>0.000000</td>\n      <td>0.0000</td>\n      <td>0.0000</td>\n      <td>0.0000</td>\n      <td>0.000</td>\n      <td>0.000</td>\n      <td>0.0000</td>\n      <td>0.000000</td>\n      <td>...</td>\n      <td>0.000000</td>\n      <td>0.000000</td>\n      <td>0.000000</td>\n      <td>0.000000</td>\n      <td>0.00</td>\n      <td>0.000000</td>\n      <td>0.000000</td>\n      <td>0.000000</td>\n      <td>0.000000</td>\n      <td>0.00</td>\n    </tr>\n    <tr>\n      <th>28</th>\n      <td>Runnymede, Swansea</td>\n      <td>0.030303</td>\n      <td>0.000000</td>\n      <td>0.0000</td>\n      <td>0.0000</td>\n      <td>0.0000</td>\n      <td>0.000</td>\n      <td>0.000</td>\n      <td>0.0000</td>\n      <td>0.000000</td>\n      <td>...</td>\n      <td>0.000000</td>\n      <td>0.000000</td>\n      <td>0.000000</td>\n      <td>0.000000</td>\n      <td>0.00</td>\n      <td>0.030303</td>\n      <td>0.000000</td>\n      <td>0.000000</td>\n      <td>0.000000</td>\n      <td>0.00</td>\n    </tr>\n    <tr>\n      <th>29</th>\n      <td>St. James Town</td>\n      <td>0.000000</td>\n      <td>0.000000</td>\n      <td>0.0000</td>\n      <td>0.0000</td>\n      <td>0.0000</td>\n      <td>0.000</td>\n      <td>0.000</td>\n      <td>0.0000</td>\n      <td>0.035294</td>\n      <td>...</td>\n      <td>0.011765</td>\n      <td>0.000000</td>\n      <td>0.000000</td>\n      <td>0.000000</td>\n      <td>0.00</td>\n      <td>0.011765</td>\n      <td>0.000000</td>\n      <td>0.000000</td>\n      <td>0.011765</td>\n      <td>0.00</td>\n    </tr>\n    <tr>\n      <th>30</th>\n      <td>St. James Town, Cabbagetown</td>\n      <td>0.000000</td>\n      <td>0.000000</td>\n      <td>0.0000</td>\n      <td>0.0000</td>\n      <td>0.0000</td>\n      <td>0.000</td>\n      <td>0.000</td>\n      <td>0.0000</td>\n      <td>0.000000</td>\n      <td>...</td>\n      <td>0.000000</td>\n      <td>0.000000</td>\n      <td>0.000000</td>\n      <td>0.000000</td>\n      <td>0.00</td>\n      <td>0.000000</td>\n      <td>0.000000</td>\n      <td>0.000000</td>\n      <td>0.000000</td>\n      <td>0.00</td>\n    </tr>\n    <tr>\n      <th>31</th>\n      <td>Stn A PO Boxes</td>\n      <td>0.010417</td>\n      <td>0.000000</td>\n      <td>0.0000</td>\n      <td>0.0000</td>\n      <td>0.0000</td>\n      <td>0.000</td>\n      <td>0.000</td>\n      <td>0.0000</td>\n      <td>0.010417</td>\n      <td>...</td>\n      <td>0.000000</td>\n      <td>0.000000</td>\n      <td>0.000000</td>\n      <td>0.000000</td>\n      <td>0.00</td>\n      <td>0.010417</td>\n      <td>0.000000</td>\n      <td>0.000000</td>\n      <td>0.000000</td>\n      <td>0.00</td>\n    </tr>\n    <tr>\n      <th>32</th>\n      <td>Studio District</td>\n      <td>0.027027</td>\n      <td>0.000000</td>\n      <td>0.0000</td>\n      <td>0.0000</td>\n      <td>0.0000</td>\n      <td>0.000</td>\n      <td>0.000</td>\n      <td>0.0000</td>\n      <td>0.054054</td>\n      <td>...</td>\n      <td>0.000000</td>\n      <td>0.000000</td>\n      <td>0.000000</td>\n      <td>0.000000</td>\n      <td>0.00</td>\n      <td>0.000000</td>\n      <td>0.000000</td>\n      <td>0.000000</td>\n      <td>0.027027</td>\n      <td>0.00</td>\n    </tr>\n    <tr>\n      <th>33</th>\n      <td>Summerhill West, Rathnelly, South Hill, Forest...</td>\n      <td>0.000000</td>\n      <td>0.000000</td>\n      <td>0.0000</td>\n      <td>0.0000</td>\n      <td>0.0000</td>\n      <td>0.000</td>\n      <td>0.000</td>\n      <td>0.0000</td>\n      <td>0.071429</td>\n      <td>...</td>\n      <td>0.000000</td>\n      <td>0.000000</td>\n      <td>0.000000</td>\n      <td>0.000000</td>\n      <td>0.00</td>\n      <td>0.000000</td>\n      <td>0.000000</td>\n      <td>0.071429</td>\n      <td>0.000000</td>\n      <td>0.00</td>\n    </tr>\n    <tr>\n      <th>34</th>\n      <td>The Annex, North Midtown, Yorkville</td>\n      <td>0.000000</td>\n      <td>0.000000</td>\n      <td>0.0000</td>\n      <td>0.0000</td>\n      <td>0.0000</td>\n      <td>0.000</td>\n      <td>0.000</td>\n      <td>0.0000</td>\n      <td>0.000000</td>\n      <td>...</td>\n      <td>0.000000</td>\n      <td>0.000000</td>\n      <td>0.000000</td>\n      <td>0.000000</td>\n      <td>0.00</td>\n      <td>0.000000</td>\n      <td>0.000000</td>\n      <td>0.000000</td>\n      <td>0.000000</td>\n      <td>0.00</td>\n    </tr>\n    <tr>\n      <th>35</th>\n      <td>The Beaches</td>\n      <td>0.000000</td>\n      <td>0.000000</td>\n      <td>0.0000</td>\n      <td>0.0000</td>\n      <td>0.0000</td>\n      <td>0.000</td>\n      <td>0.000</td>\n      <td>0.0000</td>\n      <td>0.000000</td>\n      <td>...</td>\n      <td>0.000000</td>\n      <td>0.000000</td>\n      <td>0.000000</td>\n      <td>0.250000</td>\n      <td>0.00</td>\n      <td>0.000000</td>\n      <td>0.000000</td>\n      <td>0.000000</td>\n      <td>0.000000</td>\n      <td>0.00</td>\n    </tr>\n    <tr>\n      <th>36</th>\n      <td>The Danforth West, Riverdale</td>\n      <td>0.023256</td>\n      <td>0.000000</td>\n      <td>0.0000</td>\n      <td>0.0000</td>\n      <td>0.0000</td>\n      <td>0.000</td>\n      <td>0.000</td>\n      <td>0.0000</td>\n      <td>0.023256</td>\n      <td>...</td>\n      <td>0.000000</td>\n      <td>0.000000</td>\n      <td>0.000000</td>\n      <td>0.023256</td>\n      <td>0.00</td>\n      <td>0.000000</td>\n      <td>0.000000</td>\n      <td>0.000000</td>\n      <td>0.000000</td>\n      <td>0.00</td>\n    </tr>\n    <tr>\n      <th>37</th>\n      <td>Toronto Dominion Centre, Design Exchange</td>\n      <td>0.000000</td>\n      <td>0.000000</td>\n      <td>0.0000</td>\n      <td>0.0000</td>\n      <td>0.0000</td>\n      <td>0.000</td>\n      <td>0.000</td>\n      <td>0.0000</td>\n      <td>0.030000</td>\n      <td>...</td>\n      <td>0.010000</td>\n      <td>0.000000</td>\n      <td>0.000000</td>\n      <td>0.000000</td>\n      <td>0.01</td>\n      <td>0.010000</td>\n      <td>0.000000</td>\n      <td>0.000000</td>\n      <td>0.010000</td>\n      <td>0.00</td>\n    </tr>\n    <tr>\n      <th>38</th>\n      <td>University of Toronto, Harbord</td>\n      <td>0.029412</td>\n      <td>0.000000</td>\n      <td>0.0000</td>\n      <td>0.0000</td>\n      <td>0.0000</td>\n      <td>0.000</td>\n      <td>0.000</td>\n      <td>0.0000</td>\n      <td>0.000000</td>\n      <td>...</td>\n      <td>0.029412</td>\n      <td>0.000000</td>\n      <td>0.000000</td>\n      <td>0.000000</td>\n      <td>0.00</td>\n      <td>0.000000</td>\n      <td>0.029412</td>\n      <td>0.000000</td>\n      <td>0.000000</td>\n      <td>0.00</td>\n    </tr>\n  </tbody>\n</table>\n<p>39 rows × 237 columns</p>\n</div>"
     },
     "metadata": {},
     "execution_count": 40
    }
   ],
   "source": [
    "toronto_grouped = toronto_onehot.groupby('Neighborhood').mean().reset_index()\n",
    "toronto_grouped"
   ]
  },
  {
   "cell_type": "code",
   "execution_count": 41,
   "metadata": {},
   "outputs": [
    {
     "output_type": "execute_result",
     "data": {
      "text/plain": [
       "(39, 237)"
      ]
     },
     "metadata": {},
     "execution_count": 41
    }
   ],
   "source": [
    "toronto_grouped.shape"
   ]
  },
  {
   "source": [
    "### I'm only going to consider the most common venues\n"
   ],
   "cell_type": "markdown",
   "metadata": {}
  },
  {
   "source": [
    "### In the next cell we define a function that return the n top venues"
   ],
   "cell_type": "markdown",
   "metadata": {}
  },
  {
   "cell_type": "code",
   "execution_count": 43,
   "metadata": {},
   "outputs": [],
   "source": [
    "def return_most_common_venues(row, num_top_venues):\n",
    "    row_categories = row.iloc[1:]\n",
    "    row_categories_sorted = row_categories.sort_values(ascending=False)\n",
    "    \n",
    "    return row_categories_sorted.index.values[0:num_top_venues]"
   ]
  },
  {
   "source": [
    "### Now we apply the function for each neighborhood and we set 10 top venues"
   ],
   "cell_type": "markdown",
   "metadata": {}
  },
  {
   "cell_type": "code",
   "execution_count": 82,
   "metadata": {},
   "outputs": [
    {
     "output_type": "execute_result",
     "data": {
      "text/plain": [
       "                                        Neighborhood 1st Most Common Venue  \\\n",
       "0                                        Berczy Park           Coffee Shop   \n",
       "1       Brockton, Parkdale Village, Exhibition Place                  Café   \n",
       "2  Business reply mail Processing Centre, South C...                  Park   \n",
       "3  CN Tower, King and Spadina, Railway Lands, Har...        Airport Lounge   \n",
       "4                                 Central Bay Street           Coffee Shop   \n",
       "\n",
       "  2nd Most Common Venue 3rd Most Common Venue 4th Most Common Venue  \\\n",
       "0                Bakery            Restaurant           Cheese Shop   \n",
       "1        Breakfast Spot             Nightclub           Coffee Shop   \n",
       "2           Pizza Place            Skate Park               Brewery   \n",
       "3       Airport Service      Sculpture Garden              Boutique   \n",
       "4                  Café        Sandwich Place    Italian Restaurant   \n",
       "\n",
       "  5th Most Common Venue 6th Most Common Venue 7th Most Common Venue  \\\n",
       "0              Beer Bar          Cocktail Bar    Seafood Restaurant   \n",
       "1         Grocery Store         Burrito Place                Bakery   \n",
       "2         Burrito Place        Farmers Market  Fast Food Restaurant   \n",
       "3                 Plane   Rental Car Location           Coffee Shop   \n",
       "4          Burger Joint      Department Store       Bubble Tea Shop   \n",
       "\n",
       "  8th Most Common Venue 9th Most Common Venue 10th Most Common Venue  \n",
       "0        Farmers Market        Breakfast Spot               Pharmacy  \n",
       "1          Intersection    Italian Restaurant             Restaurant  \n",
       "2            Restaurant               Butcher       Recording Studio  \n",
       "3         Boat or Ferry       Harbor / Marina                    Bar  \n",
       "4       Thai Restaurant   Japanese Restaurant            Salad Place  "
      ],
      "text/html": "<div>\n<style scoped>\n    .dataframe tbody tr th:only-of-type {\n        vertical-align: middle;\n    }\n\n    .dataframe tbody tr th {\n        vertical-align: top;\n    }\n\n    .dataframe thead th {\n        text-align: right;\n    }\n</style>\n<table border=\"1\" class=\"dataframe\">\n  <thead>\n    <tr style=\"text-align: right;\">\n      <th></th>\n      <th>Neighborhood</th>\n      <th>1st Most Common Venue</th>\n      <th>2nd Most Common Venue</th>\n      <th>3rd Most Common Venue</th>\n      <th>4th Most Common Venue</th>\n      <th>5th Most Common Venue</th>\n      <th>6th Most Common Venue</th>\n      <th>7th Most Common Venue</th>\n      <th>8th Most Common Venue</th>\n      <th>9th Most Common Venue</th>\n      <th>10th Most Common Venue</th>\n    </tr>\n  </thead>\n  <tbody>\n    <tr>\n      <th>0</th>\n      <td>Berczy Park</td>\n      <td>Coffee Shop</td>\n      <td>Bakery</td>\n      <td>Restaurant</td>\n      <td>Cheese Shop</td>\n      <td>Beer Bar</td>\n      <td>Cocktail Bar</td>\n      <td>Seafood Restaurant</td>\n      <td>Farmers Market</td>\n      <td>Breakfast Spot</td>\n      <td>Pharmacy</td>\n    </tr>\n    <tr>\n      <th>1</th>\n      <td>Brockton, Parkdale Village, Exhibition Place</td>\n      <td>Café</td>\n      <td>Breakfast Spot</td>\n      <td>Nightclub</td>\n      <td>Coffee Shop</td>\n      <td>Grocery Store</td>\n      <td>Burrito Place</td>\n      <td>Bakery</td>\n      <td>Intersection</td>\n      <td>Italian Restaurant</td>\n      <td>Restaurant</td>\n    </tr>\n    <tr>\n      <th>2</th>\n      <td>Business reply mail Processing Centre, South C...</td>\n      <td>Park</td>\n      <td>Pizza Place</td>\n      <td>Skate Park</td>\n      <td>Brewery</td>\n      <td>Burrito Place</td>\n      <td>Farmers Market</td>\n      <td>Fast Food Restaurant</td>\n      <td>Restaurant</td>\n      <td>Butcher</td>\n      <td>Recording Studio</td>\n    </tr>\n    <tr>\n      <th>3</th>\n      <td>CN Tower, King and Spadina, Railway Lands, Har...</td>\n      <td>Airport Lounge</td>\n      <td>Airport Service</td>\n      <td>Sculpture Garden</td>\n      <td>Boutique</td>\n      <td>Plane</td>\n      <td>Rental Car Location</td>\n      <td>Coffee Shop</td>\n      <td>Boat or Ferry</td>\n      <td>Harbor / Marina</td>\n      <td>Bar</td>\n    </tr>\n    <tr>\n      <th>4</th>\n      <td>Central Bay Street</td>\n      <td>Coffee Shop</td>\n      <td>Café</td>\n      <td>Sandwich Place</td>\n      <td>Italian Restaurant</td>\n      <td>Burger Joint</td>\n      <td>Department Store</td>\n      <td>Bubble Tea Shop</td>\n      <td>Thai Restaurant</td>\n      <td>Japanese Restaurant</td>\n      <td>Salad Place</td>\n    </tr>\n  </tbody>\n</table>\n</div>"
     },
     "metadata": {},
     "execution_count": 82
    }
   ],
   "source": [
    "num_top_venues = 10\n",
    "\n",
    "indicators = ['st', 'nd', 'rd']\n",
    "\n",
    "# create columns according to number of top venues\n",
    "columns = ['Neighborhood']\n",
    "for ind in np.arange(num_top_venues):\n",
    "    try:\n",
    "        columns.append('{}{} Most Common Venue'.format(ind+1, indicators[ind]))\n",
    "    except:\n",
    "        columns.append('{}th Most Common Venue'.format(ind+1))\n",
    "\n",
    "# create a new dataframe\n",
    "neighborhoods_venues_sorted = pd.DataFrame(columns=columns)\n",
    "neighborhoods_venues_sorted['Neighborhood'] = toronto_grouped['Neighborhood']\n",
    "\n",
    "for ind in np.arange(toronto_grouped.shape[0]):\n",
    "    neighborhoods_venues_sorted.iloc[ind, 1:] = return_most_common_venues(toronto_grouped.iloc[ind, :], num_top_venues)\n",
    "\n",
    "neighborhoods_venues_sorted.head()"
   ]
  },
  {
   "source": [
    "## Cluster Neighborhoods"
   ],
   "cell_type": "markdown",
   "metadata": {}
  },
  {
   "source": [
    "### Here I started with 5 clusters, but I played with different number of cluster. \n",
    "### First I set 2 clusters, but I realized that they were not enough, because many places could be divided even more.\n",
    "### Then, I set 6 and 8 clusters, but more than 3 clusters had only one venue. So, I tried with 4 clusters. \n",
    "### Finally, I realized that only one cluster was in all the experiments and it is the cluster number 3. \n"
   ],
   "cell_type": "markdown",
   "metadata": {}
  },
  {
   "source": [
    "### Run k-means to cluster the neighborhood into 4 clusters."
   ],
   "cell_type": "markdown",
   "metadata": {}
  },
  {
   "cell_type": "code",
   "execution_count": 83,
   "metadata": {},
   "outputs": [
    {
     "output_type": "execute_result",
     "data": {
      "text/plain": [
       "array([2, 2, 2, 2, 2, 2, 2, 2, 2, 2])"
      ]
     },
     "metadata": {},
     "execution_count": 83
    }
   ],
   "source": [
    "# set number of clusters\n",
    "kclusters = 4\n",
    "\n",
    "toronto_grouped_clustering = toronto_grouped.drop('Neighborhood', 1)\n",
    "\n",
    "# run k-means clustering\n",
    "kmeans = KMeans(n_clusters=kclusters, random_state=0).fit(toronto_grouped_clustering)\n",
    "\n",
    "# check cluster labels generated for each row in the dataframe\n",
    "kmeans.labels_[0:10] "
   ]
  },
  {
   "source": [
    "### I'm going to build a new dataframe that includes the cluster label and then I'm going to map them "
   ],
   "cell_type": "markdown",
   "metadata": {}
  },
  {
   "cell_type": "code",
   "execution_count": 84,
   "metadata": {},
   "outputs": [
    {
     "output_type": "execute_result",
     "data": {
      "text/plain": [
       "   PostalCode           Borough                                 Neighborhood  \\\n",
       "2         M5A  Downtown Toronto                    Regent Park, Harbourfront   \n",
       "4         M7A  Downtown Toronto  Queen's Park, Ontario Provincial Government   \n",
       "9         M5B  Downtown Toronto                     Garden District, Ryerson   \n",
       "15        M5C  Downtown Toronto                               St. James Town   \n",
       "19        M4E      East Toronto                                  The Beaches   \n",
       "\n",
       "     Latitude  Longitude  Cluster Labels 1st Most Common Venue  \\\n",
       "2   43.654260 -79.360636               2           Coffee Shop   \n",
       "4   43.662301 -79.389494               2           Coffee Shop   \n",
       "9   43.657162 -79.378937               2           Coffee Shop   \n",
       "15  43.651494 -79.375418               2           Coffee Shop   \n",
       "19  43.676357 -79.293031               0                   Pub   \n",
       "\n",
       "   2nd Most Common Venue 3rd Most Common Venue 4th Most Common Venue  \\\n",
       "2                   Park                   Pub                Bakery   \n",
       "4            Yoga Studio                  Café         Smoothie Shop   \n",
       "9         Clothing Store                  Café       Bubble Tea Shop   \n",
       "15                  Café          Cocktail Bar            Restaurant   \n",
       "19                 Trail     Health Food Store         Women's Store   \n",
       "\n",
       "   5th Most Common Venue 6th Most Common Venue 7th Most Common Venue  \\\n",
       "2                   Café               Theater        Breakfast Spot   \n",
       "4               Beer Bar    Italian Restaurant        Sandwich Place   \n",
       "9    Japanese Restaurant        Cosmetics Shop    Italian Restaurant   \n",
       "15             Gastropub              Beer Bar   American Restaurant   \n",
       "19   Distribution Center          Dessert Shop    Dim Sum Restaurant   \n",
       "\n",
       "   8th Most Common Venue   9th Most Common Venue     10th Most Common Venue  \n",
       "2                Brewery                     Spa                 Beer Store  \n",
       "4             Restaurant     Distribution Center                      Diner  \n",
       "9       Ramen Restaurant  Furniture / Home Store  Middle Eastern Restaurant  \n",
       "15        Lingerie Store                   Hotel             Cosmetics Shop  \n",
       "19                 Diner          Discount Store           Doner Restaurant  "
      ],
      "text/html": "<div>\n<style scoped>\n    .dataframe tbody tr th:only-of-type {\n        vertical-align: middle;\n    }\n\n    .dataframe tbody tr th {\n        vertical-align: top;\n    }\n\n    .dataframe thead th {\n        text-align: right;\n    }\n</style>\n<table border=\"1\" class=\"dataframe\">\n  <thead>\n    <tr style=\"text-align: right;\">\n      <th></th>\n      <th>PostalCode</th>\n      <th>Borough</th>\n      <th>Neighborhood</th>\n      <th>Latitude</th>\n      <th>Longitude</th>\n      <th>Cluster Labels</th>\n      <th>1st Most Common Venue</th>\n      <th>2nd Most Common Venue</th>\n      <th>3rd Most Common Venue</th>\n      <th>4th Most Common Venue</th>\n      <th>5th Most Common Venue</th>\n      <th>6th Most Common Venue</th>\n      <th>7th Most Common Venue</th>\n      <th>8th Most Common Venue</th>\n      <th>9th Most Common Venue</th>\n      <th>10th Most Common Venue</th>\n    </tr>\n  </thead>\n  <tbody>\n    <tr>\n      <th>2</th>\n      <td>M5A</td>\n      <td>Downtown Toronto</td>\n      <td>Regent Park, Harbourfront</td>\n      <td>43.654260</td>\n      <td>-79.360636</td>\n      <td>2</td>\n      <td>Coffee Shop</td>\n      <td>Park</td>\n      <td>Pub</td>\n      <td>Bakery</td>\n      <td>Café</td>\n      <td>Theater</td>\n      <td>Breakfast Spot</td>\n      <td>Brewery</td>\n      <td>Spa</td>\n      <td>Beer Store</td>\n    </tr>\n    <tr>\n      <th>4</th>\n      <td>M7A</td>\n      <td>Downtown Toronto</td>\n      <td>Queen's Park, Ontario Provincial Government</td>\n      <td>43.662301</td>\n      <td>-79.389494</td>\n      <td>2</td>\n      <td>Coffee Shop</td>\n      <td>Yoga Studio</td>\n      <td>Café</td>\n      <td>Smoothie Shop</td>\n      <td>Beer Bar</td>\n      <td>Italian Restaurant</td>\n      <td>Sandwich Place</td>\n      <td>Restaurant</td>\n      <td>Distribution Center</td>\n      <td>Diner</td>\n    </tr>\n    <tr>\n      <th>9</th>\n      <td>M5B</td>\n      <td>Downtown Toronto</td>\n      <td>Garden District, Ryerson</td>\n      <td>43.657162</td>\n      <td>-79.378937</td>\n      <td>2</td>\n      <td>Coffee Shop</td>\n      <td>Clothing Store</td>\n      <td>Café</td>\n      <td>Bubble Tea Shop</td>\n      <td>Japanese Restaurant</td>\n      <td>Cosmetics Shop</td>\n      <td>Italian Restaurant</td>\n      <td>Ramen Restaurant</td>\n      <td>Furniture / Home Store</td>\n      <td>Middle Eastern Restaurant</td>\n    </tr>\n    <tr>\n      <th>15</th>\n      <td>M5C</td>\n      <td>Downtown Toronto</td>\n      <td>St. James Town</td>\n      <td>43.651494</td>\n      <td>-79.375418</td>\n      <td>2</td>\n      <td>Coffee Shop</td>\n      <td>Café</td>\n      <td>Cocktail Bar</td>\n      <td>Restaurant</td>\n      <td>Gastropub</td>\n      <td>Beer Bar</td>\n      <td>American Restaurant</td>\n      <td>Lingerie Store</td>\n      <td>Hotel</td>\n      <td>Cosmetics Shop</td>\n    </tr>\n    <tr>\n      <th>19</th>\n      <td>M4E</td>\n      <td>East Toronto</td>\n      <td>The Beaches</td>\n      <td>43.676357</td>\n      <td>-79.293031</td>\n      <td>0</td>\n      <td>Pub</td>\n      <td>Trail</td>\n      <td>Health Food Store</td>\n      <td>Women's Store</td>\n      <td>Distribution Center</td>\n      <td>Dessert Shop</td>\n      <td>Dim Sum Restaurant</td>\n      <td>Diner</td>\n      <td>Discount Store</td>\n      <td>Doner Restaurant</td>\n    </tr>\n  </tbody>\n</table>\n</div>"
     },
     "metadata": {},
     "execution_count": 84
    }
   ],
   "source": [
    "# add clustering labels\n",
    "neighborhoods_venues_sorted.insert(0, 'Cluster Labels', kmeans.labels_)\n",
    "\n",
    "toronto_merged = Toronto_borough\n",
    "\n",
    "# merge manhattan_grouped with manhattan_data to add latitude/longitude for each neighborhood\n",
    "toronto_merged = toronto_merged.join(neighborhoods_venues_sorted.set_index('Neighborhood'), on='Neighborhood')\n",
    "\n",
    "toronto_merged.head() # check the last columns!"
   ]
  },
  {
   "cell_type": "code",
   "execution_count": 85,
   "metadata": {},
   "outputs": [
    {
     "output_type": "execute_result",
     "data": {
      "text/plain": [
       "<folium.folium.Map at 0x1c879206d48>"
      ],
      "text/html": "<div style=\"width:100%;\"><div style=\"position:relative;width:100%;height:0;padding-bottom:60%;\"><span style=\"color:#565656\">Make this Notebook Trusted to load map: File -> Trust Notebook</span><iframe src=\"about:blank\" style=\"position:absolute;width:100%;height:100%;left:0;top:0;border:none !important;\" data-html=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 onload=\"this.contentDocument.open();this.contentDocument.write(atob(this.getAttribute('data-html')));this.contentDocument.close();\" allowfullscreen webkitallowfullscreen mozallowfullscreen></iframe></div></div>"
     },
     "metadata": {},
     "execution_count": 85
    }
   ],
   "source": [
    "# create map\n",
    "map_clusters = folium.Map(location=[latitude, longitude], zoom_start=11)\n",
    "\n",
    "# set color scheme for the clusters\n",
    "x = np.arange(kclusters)\n",
    "ys = [i + x + (i*x)**2 for i in range(kclusters)]\n",
    "colors_array = cm.rainbow(np.linspace(0, 1, len(ys)))\n",
    "rainbow = [colors.rgb2hex(i) for i in colors_array]\n",
    "\n",
    "# add markers to the map\n",
    "markers_colors = []\n",
    "for lat, lon, poi, cluster in zip(toronto_merged['Latitude'], toronto_merged['Longitude'], toronto_merged['Neighborhood'], toronto_merged['Cluster Labels']):\n",
    "    label = folium.Popup(str(poi) + ' Cluster ' + str(cluster), parse_html=True)\n",
    "    folium.CircleMarker(\n",
    "        [lat, lon],\n",
    "        radius=5,\n",
    "        popup=label,\n",
    "        color=rainbow[cluster-1],\n",
    "        fill=True,\n",
    "        fill_color=rainbow[cluster-1],\n",
    "        fill_opacity=0.7).add_to(map_clusters)\n",
    "       \n",
    "map_clusters"
   ]
  },
  {
   "source": [
    "## Healthy "
   ],
   "cell_type": "markdown",
   "metadata": {}
  },
  {
   "cell_type": "code",
   "execution_count": 86,
   "metadata": {},
   "outputs": [
    {
     "output_type": "execute_result",
     "data": {
      "text/plain": [
       "            Borough  Cluster Labels 1st Most Common Venue  \\\n",
       "19     East Toronto               0                   Pub   \n",
       "83  Central Toronto               0                 Trail   \n",
       "\n",
       "   2nd Most Common Venue 3rd Most Common Venue 4th Most Common Venue  \\\n",
       "19                 Trail     Health Food Store         Women's Store   \n",
       "83            Playground         Women's Store         Deli / Bodega   \n",
       "\n",
       "   5th Most Common Venue        6th Most Common Venue 7th Most Common Venue  \\\n",
       "19   Distribution Center                 Dessert Shop    Dim Sum Restaurant   \n",
       "83     Electronics Store  Eastern European Restaurant   Dumpling Restaurant   \n",
       "\n",
       "   8th Most Common Venue 9th Most Common Venue 10th Most Common Venue  \n",
       "19                 Diner        Discount Store       Doner Restaurant  \n",
       "83            Donut Shop      Doner Restaurant                Dog Run  "
      ],
      "text/html": "<div>\n<style scoped>\n    .dataframe tbody tr th:only-of-type {\n        vertical-align: middle;\n    }\n\n    .dataframe tbody tr th {\n        vertical-align: top;\n    }\n\n    .dataframe thead th {\n        text-align: right;\n    }\n</style>\n<table border=\"1\" class=\"dataframe\">\n  <thead>\n    <tr style=\"text-align: right;\">\n      <th></th>\n      <th>Borough</th>\n      <th>Cluster Labels</th>\n      <th>1st Most Common Venue</th>\n      <th>2nd Most Common Venue</th>\n      <th>3rd Most Common Venue</th>\n      <th>4th Most Common Venue</th>\n      <th>5th Most Common Venue</th>\n      <th>6th Most Common Venue</th>\n      <th>7th Most Common Venue</th>\n      <th>8th Most Common Venue</th>\n      <th>9th Most Common Venue</th>\n      <th>10th Most Common Venue</th>\n    </tr>\n  </thead>\n  <tbody>\n    <tr>\n      <th>19</th>\n      <td>East Toronto</td>\n      <td>0</td>\n      <td>Pub</td>\n      <td>Trail</td>\n      <td>Health Food Store</td>\n      <td>Women's Store</td>\n      <td>Distribution Center</td>\n      <td>Dessert Shop</td>\n      <td>Dim Sum Restaurant</td>\n      <td>Diner</td>\n      <td>Discount Store</td>\n      <td>Doner Restaurant</td>\n    </tr>\n    <tr>\n      <th>83</th>\n      <td>Central Toronto</td>\n      <td>0</td>\n      <td>Trail</td>\n      <td>Playground</td>\n      <td>Women's Store</td>\n      <td>Deli / Bodega</td>\n      <td>Electronics Store</td>\n      <td>Eastern European Restaurant</td>\n      <td>Dumpling Restaurant</td>\n      <td>Donut Shop</td>\n      <td>Doner Restaurant</td>\n      <td>Dog Run</td>\n    </tr>\n  </tbody>\n</table>\n</div>"
     },
     "metadata": {},
     "execution_count": 86
    }
   ],
   "source": [
    "toronto_merged.loc[toronto_merged['Cluster Labels'] == 0, toronto_merged.columns[[1] + list(range(5, toronto_merged.shape[1]))]]"
   ]
  },
  {
   "source": [
    "## Entertainment"
   ],
   "cell_type": "markdown",
   "metadata": {}
  },
  {
   "cell_type": "code",
   "execution_count": 87,
   "metadata": {},
   "outputs": [
    {
     "output_type": "execute_result",
     "data": {
      "text/plain": [
       "             Borough  Cluster Labels 1st Most Common Venue  \\\n",
       "61   Central Toronto               1                  Park   \n",
       "68   Central Toronto               1                  Park   \n",
       "91  Downtown Toronto               1                  Park   \n",
       "\n",
       "   2nd Most Common Venue 3rd Most Common Venue 4th Most Common Venue  \\\n",
       "61           Swim School              Bus Line     Electronics Store   \n",
       "68      Sushi Restaurant         Jewelry Store                 Trail   \n",
       "91                 Trail            Playground          Dance Studio   \n",
       "\n",
       "          5th Most Common Venue        6th Most Common Venue  \\\n",
       "61  Eastern European Restaurant          Dumpling Restaurant   \n",
       "68            Electronics Store  Eastern European Restaurant   \n",
       "91  Eastern European Restaurant          Dumpling Restaurant   \n",
       "\n",
       "   7th Most Common Venue 8th Most Common Venue 9th Most Common Venue  \\\n",
       "61            Donut Shop      Doner Restaurant               Dog Run   \n",
       "68   Dumpling Restaurant            Donut Shop      Doner Restaurant   \n",
       "91            Donut Shop      Doner Restaurant               Dog Run   \n",
       "\n",
       "   10th Most Common Venue  \n",
       "61    Distribution Center  \n",
       "68                Dog Run  \n",
       "91    Distribution Center  "
      ],
      "text/html": "<div>\n<style scoped>\n    .dataframe tbody tr th:only-of-type {\n        vertical-align: middle;\n    }\n\n    .dataframe tbody tr th {\n        vertical-align: top;\n    }\n\n    .dataframe thead th {\n        text-align: right;\n    }\n</style>\n<table border=\"1\" class=\"dataframe\">\n  <thead>\n    <tr style=\"text-align: right;\">\n      <th></th>\n      <th>Borough</th>\n      <th>Cluster Labels</th>\n      <th>1st Most Common Venue</th>\n      <th>2nd Most Common Venue</th>\n      <th>3rd Most Common Venue</th>\n      <th>4th Most Common Venue</th>\n      <th>5th Most Common Venue</th>\n      <th>6th Most Common Venue</th>\n      <th>7th Most Common Venue</th>\n      <th>8th Most Common Venue</th>\n      <th>9th Most Common Venue</th>\n      <th>10th Most Common Venue</th>\n    </tr>\n  </thead>\n  <tbody>\n    <tr>\n      <th>61</th>\n      <td>Central Toronto</td>\n      <td>1</td>\n      <td>Park</td>\n      <td>Swim School</td>\n      <td>Bus Line</td>\n      <td>Electronics Store</td>\n      <td>Eastern European Restaurant</td>\n      <td>Dumpling Restaurant</td>\n      <td>Donut Shop</td>\n      <td>Doner Restaurant</td>\n      <td>Dog Run</td>\n      <td>Distribution Center</td>\n    </tr>\n    <tr>\n      <th>68</th>\n      <td>Central Toronto</td>\n      <td>1</td>\n      <td>Park</td>\n      <td>Sushi Restaurant</td>\n      <td>Jewelry Store</td>\n      <td>Trail</td>\n      <td>Electronics Store</td>\n      <td>Eastern European Restaurant</td>\n      <td>Dumpling Restaurant</td>\n      <td>Donut Shop</td>\n      <td>Doner Restaurant</td>\n      <td>Dog Run</td>\n    </tr>\n    <tr>\n      <th>91</th>\n      <td>Downtown Toronto</td>\n      <td>1</td>\n      <td>Park</td>\n      <td>Trail</td>\n      <td>Playground</td>\n      <td>Dance Studio</td>\n      <td>Eastern European Restaurant</td>\n      <td>Dumpling Restaurant</td>\n      <td>Donut Shop</td>\n      <td>Doner Restaurant</td>\n      <td>Dog Run</td>\n      <td>Distribution Center</td>\n    </tr>\n  </tbody>\n</table>\n</div>"
     },
     "metadata": {},
     "execution_count": 87
    }
   ],
   "source": [
    "toronto_merged.loc[toronto_merged['Cluster Labels'] == 1, toronto_merged.columns[[1] + list(range(5, toronto_merged.shape[1]))]]"
   ]
  },
  {
   "source": [
    "## Caffeteria - Restaurant"
   ],
   "cell_type": "markdown",
   "metadata": {}
  },
  {
   "cell_type": "code",
   "execution_count": 88,
   "metadata": {},
   "outputs": [
    {
     "output_type": "execute_result",
     "data": {
      "text/plain": [
       "              Borough  Cluster Labels 1st Most Common Venue  \\\n",
       "2    Downtown Toronto               2           Coffee Shop   \n",
       "4    Downtown Toronto               2           Coffee Shop   \n",
       "9    Downtown Toronto               2           Coffee Shop   \n",
       "15   Downtown Toronto               2           Coffee Shop   \n",
       "20   Downtown Toronto               2           Coffee Shop   \n",
       "24   Downtown Toronto               2           Coffee Shop   \n",
       "25   Downtown Toronto               2         Grocery Store   \n",
       "30   Downtown Toronto               2           Coffee Shop   \n",
       "31       West Toronto               2              Pharmacy   \n",
       "36   Downtown Toronto               2           Coffee Shop   \n",
       "37       West Toronto               2                   Bar   \n",
       "41       East Toronto               2      Greek Restaurant   \n",
       "42   Downtown Toronto               2           Coffee Shop   \n",
       "43       West Toronto               2                  Café   \n",
       "47       East Toronto               2                  Park   \n",
       "48   Downtown Toronto               2           Coffee Shop   \n",
       "54       East Toronto               2           Coffee Shop   \n",
       "67    Central Toronto               2                  Park   \n",
       "69       West Toronto               2                   Bar   \n",
       "73    Central Toronto               2           Coffee Shop   \n",
       "74    Central Toronto               2        Sandwich Place   \n",
       "75       West Toronto               2             Gift Shop   \n",
       "79    Central Toronto               2        Sandwich Place   \n",
       "80   Downtown Toronto               2                  Café   \n",
       "81       West Toronto               2           Coffee Shop   \n",
       "84   Downtown Toronto               2    Mexican Restaurant   \n",
       "86    Central Toronto               2           Coffee Shop   \n",
       "87   Downtown Toronto               2        Airport Lounge   \n",
       "92   Downtown Toronto               2           Coffee Shop   \n",
       "96   Downtown Toronto               2           Coffee Shop   \n",
       "97   Downtown Toronto               2           Coffee Shop   \n",
       "99   Downtown Toronto               2           Coffee Shop   \n",
       "100      East Toronto               2                  Park   \n",
       "\n",
       "    2nd Most Common Venue          3rd Most Common Venue  \\\n",
       "2                    Park                            Pub   \n",
       "4             Yoga Studio                           Café   \n",
       "9          Clothing Store                           Café   \n",
       "15                   Café                   Cocktail Bar   \n",
       "20                 Bakery                     Restaurant   \n",
       "24                   Café                 Sandwich Place   \n",
       "25                   Café                           Park   \n",
       "30                   Café                     Restaurant   \n",
       "31                 Bakery                  Grocery Store   \n",
       "36               Aquarium                          Hotel   \n",
       "37            Coffee Shop          Vietnamese Restaurant   \n",
       "41            Coffee Shop             Italian Restaurant   \n",
       "42                  Hotel                           Café   \n",
       "43         Breakfast Spot                      Nightclub   \n",
       "47            Pizza Place           Fast Food Restaurant   \n",
       "48             Restaurant                          Hotel   \n",
       "54                 Bakery                      Gastropub   \n",
       "67         Sandwich Place                   Dance Studio   \n",
       "69                   Café             Mexican Restaurant   \n",
       "73         Clothing Store                    Yoga Studio   \n",
       "74                   Café                    Coffee Shop   \n",
       "75         Breakfast Spot                        Dog Run   \n",
       "79           Dessert Shop                    Pizza Place   \n",
       "80              Bookstore            Japanese Restaurant   \n",
       "81                   Café             Italian Restaurant   \n",
       "84            Coffee Shop  Vegetarian / Vegan Restaurant   \n",
       "86            Supermarket                     Restaurant   \n",
       "87        Airport Service               Sculpture Garden   \n",
       "92     Italian Restaurant                            Pub   \n",
       "96             Restaurant                           Café   \n",
       "97                   Café                          Hotel   \n",
       "99       Sushi Restaurant            Japanese Restaurant   \n",
       "100           Pizza Place                     Skate Park   \n",
       "\n",
       "    4th Most Common Venue        5th Most Common Venue  6th Most Common Venue  \\\n",
       "2                  Bakery                         Café                Theater   \n",
       "4           Smoothie Shop                     Beer Bar     Italian Restaurant   \n",
       "9         Bubble Tea Shop          Japanese Restaurant         Cosmetics Shop   \n",
       "15             Restaurant                    Gastropub               Beer Bar   \n",
       "20            Cheese Shop                     Beer Bar           Cocktail Bar   \n",
       "24     Italian Restaurant                 Burger Joint       Department Store   \n",
       "25             Baby Store                    Nightclub     Athletics & Sports   \n",
       "30                    Gym                          Bar                  Hotel   \n",
       "31            Supermarket    Middle Eastern Restaurant            Music Venue   \n",
       "36                   Café                   Restaurant    Fried Chicken Joint   \n",
       "37             Restaurant                         Café       Asian Restaurant   \n",
       "41             Restaurant       Furniture / Home Store              Bookstore   \n",
       "42             Restaurant                  Salad Place    American Restaurant   \n",
       "43            Coffee Shop                Grocery Store          Burrito Place   \n",
       "47                    Pub            Fish & Chips Shop             Steakhouse   \n",
       "48                   Café                          Gym    American Restaurant   \n",
       "54                Brewery                         Café    American Restaurant   \n",
       "67                  Hotel            Food & Drink Shop                Dog Run   \n",
       "69        Thai Restaurant                       Bakery              Speakeasy   \n",
       "73             Bagel Shop       Furniture / Home Store         Ice Cream Shop   \n",
       "74         History Museum                 Liquor Store           Burger Joint   \n",
       "75                    Bar  Eastern European Restaurant           Dessert Shop   \n",
       "79                    Gym           Italian Restaurant       Sushi Restaurant   \n",
       "80         Sandwich Place                          Bar                 Bakery   \n",
       "81                    Pub                  Pizza Place       Sushi Restaurant   \n",
       "84                   Café                          Bar  Vietnamese Restaurant   \n",
       "86             Bagel Shop             Sushi Restaurant                   Bank   \n",
       "87               Boutique                        Plane    Rental Car Location   \n",
       "92                  Hotel           Seafood Restaurant    Japanese Restaurant   \n",
       "96            Pizza Place           Chinese Restaurant                    Pub   \n",
       "97                    Gym          Japanese Restaurant             Restaurant   \n",
       "99                Gay Bar                   Restaurant            Yoga Studio   \n",
       "100               Brewery                Burrito Place         Farmers Market   \n",
       "\n",
       "    7th Most Common Venue      8th Most Common Venue   9th Most Common Venue  \\\n",
       "2          Breakfast Spot                    Brewery                     Spa   \n",
       "4          Sandwich Place                 Restaurant     Distribution Center   \n",
       "9      Italian Restaurant           Ramen Restaurant  Furniture / Home Store   \n",
       "15    American Restaurant             Lingerie Store                   Hotel   \n",
       "20     Seafood Restaurant             Farmers Market          Breakfast Spot   \n",
       "24        Bubble Tea Shop            Thai Restaurant     Japanese Restaurant   \n",
       "25             Restaurant                Coffee Shop             Candy Store   \n",
       "30         Clothing Store            Thai Restaurant            Concert Hall   \n",
       "31                   Café                    Brewery                     Bar   \n",
       "36         Scenic Lookout                Pizza Place                 Brewery   \n",
       "37            Men's Store               Cupcake Shop             Record Shop   \n",
       "41         Ice Cream Shop                        Pub             Pizza Place   \n",
       "42     Seafood Restaurant        Japanese Restaurant      Italian Restaurant   \n",
       "43                 Bakery               Intersection      Italian Restaurant   \n",
       "47       Sushi Restaurant              Burrito Place      Italian Restaurant   \n",
       "48     Seafood Restaurant        Japanese Restaurant           Deli / Bodega   \n",
       "54      Convenience Store         Seafood Restaurant             Cheese Shop   \n",
       "67         Breakfast Spot       Gym / Fitness Center        Department Store   \n",
       "69              Bookstore  Cajun / Creole Restaurant             Music Venue   \n",
       "73   Fast Food Restaurant                      Diner      Mexican Restaurant   \n",
       "74      Indian Restaurant                  BBQ Joint              Donut Shop   \n",
       "75            Coffee Shop                  Bookstore              Restaurant   \n",
       "79                   Café                Coffee Shop        Toy / Game Store   \n",
       "80               Beer Bar                 Beer Store      Italian Restaurant   \n",
       "81      French Restaurant                      Diner                     Bar   \n",
       "84                 Bakery               Dessert Shop                    Park   \n",
       "86    Fried Chicken Joint                Pizza Place     American Restaurant   \n",
       "87            Coffee Shop              Boat or Ferry         Harbor / Marina   \n",
       "92               Beer Bar                 Restaurant                    Café   \n",
       "96     Italian Restaurant                     Bakery                  Market   \n",
       "97            Salad Place           Asian Restaurant              Steakhouse   \n",
       "99            Men's Store                       Café         Bubble Tea Shop   \n",
       "100  Fast Food Restaurant                 Restaurant                 Butcher   \n",
       "\n",
       "        10th Most Common Venue  \n",
       "2                   Beer Store  \n",
       "4                        Diner  \n",
       "9    Middle Eastern Restaurant  \n",
       "15              Cosmetics Shop  \n",
       "20                    Pharmacy  \n",
       "24                 Salad Place  \n",
       "25          Italian Restaurant  \n",
       "30              Breakfast Spot  \n",
       "31                        Bank  \n",
       "36                 Music Venue  \n",
       "37                 Pizza Place  \n",
       "41                      Lounge  \n",
       "42            Asian Restaurant  \n",
       "43                  Restaurant  \n",
       "47                  Restaurant  \n",
       "48          Italian Restaurant  \n",
       "54              Clothing Store  \n",
       "67                  Donut Shop  \n",
       "69               Grocery Store  \n",
       "73          Chinese Restaurant  \n",
       "74   Middle Eastern Restaurant  \n",
       "75          Italian Restaurant  \n",
       "79            Indoor Play Area  \n",
       "80     Comfort Food Restaurant  \n",
       "81                        Bank  \n",
       "84                 Pizza Place  \n",
       "86                Liquor Store  \n",
       "87                         Bar  \n",
       "92              Farmers Market  \n",
       "96                        Park  \n",
       "97         American Restaurant  \n",
       "99                         Pub  \n",
       "100           Recording Studio  "
      ],
      "text/html": "<div>\n<style scoped>\n    .dataframe tbody tr th:only-of-type {\n        vertical-align: middle;\n    }\n\n    .dataframe tbody tr th {\n        vertical-align: top;\n    }\n\n    .dataframe thead th {\n        text-align: right;\n    }\n</style>\n<table border=\"1\" class=\"dataframe\">\n  <thead>\n    <tr style=\"text-align: right;\">\n      <th></th>\n      <th>Borough</th>\n      <th>Cluster Labels</th>\n      <th>1st Most Common Venue</th>\n      <th>2nd Most Common Venue</th>\n      <th>3rd Most Common Venue</th>\n      <th>4th Most Common Venue</th>\n      <th>5th Most Common Venue</th>\n      <th>6th Most Common Venue</th>\n      <th>7th Most Common Venue</th>\n      <th>8th Most Common Venue</th>\n      <th>9th Most Common Venue</th>\n      <th>10th Most Common Venue</th>\n    </tr>\n  </thead>\n  <tbody>\n    <tr>\n      <th>2</th>\n      <td>Downtown Toronto</td>\n      <td>2</td>\n      <td>Coffee Shop</td>\n      <td>Park</td>\n      <td>Pub</td>\n      <td>Bakery</td>\n      <td>Café</td>\n      <td>Theater</td>\n      <td>Breakfast Spot</td>\n      <td>Brewery</td>\n      <td>Spa</td>\n      <td>Beer Store</td>\n    </tr>\n    <tr>\n      <th>4</th>\n      <td>Downtown Toronto</td>\n      <td>2</td>\n      <td>Coffee Shop</td>\n      <td>Yoga Studio</td>\n      <td>Café</td>\n      <td>Smoothie Shop</td>\n      <td>Beer Bar</td>\n      <td>Italian Restaurant</td>\n      <td>Sandwich Place</td>\n      <td>Restaurant</td>\n      <td>Distribution Center</td>\n      <td>Diner</td>\n    </tr>\n    <tr>\n      <th>9</th>\n      <td>Downtown Toronto</td>\n      <td>2</td>\n      <td>Coffee Shop</td>\n      <td>Clothing Store</td>\n      <td>Café</td>\n      <td>Bubble Tea Shop</td>\n      <td>Japanese Restaurant</td>\n      <td>Cosmetics Shop</td>\n      <td>Italian Restaurant</td>\n      <td>Ramen Restaurant</td>\n      <td>Furniture / Home Store</td>\n      <td>Middle Eastern Restaurant</td>\n    </tr>\n    <tr>\n      <th>15</th>\n      <td>Downtown Toronto</td>\n      <td>2</td>\n      <td>Coffee Shop</td>\n      <td>Café</td>\n      <td>Cocktail Bar</td>\n      <td>Restaurant</td>\n      <td>Gastropub</td>\n      <td>Beer Bar</td>\n      <td>American Restaurant</td>\n      <td>Lingerie Store</td>\n      <td>Hotel</td>\n      <td>Cosmetics Shop</td>\n    </tr>\n    <tr>\n      <th>20</th>\n      <td>Downtown Toronto</td>\n      <td>2</td>\n      <td>Coffee Shop</td>\n      <td>Bakery</td>\n      <td>Restaurant</td>\n      <td>Cheese Shop</td>\n      <td>Beer Bar</td>\n      <td>Cocktail Bar</td>\n      <td>Seafood Restaurant</td>\n      <td>Farmers Market</td>\n      <td>Breakfast Spot</td>\n      <td>Pharmacy</td>\n    </tr>\n    <tr>\n      <th>24</th>\n      <td>Downtown Toronto</td>\n      <td>2</td>\n      <td>Coffee Shop</td>\n      <td>Café</td>\n      <td>Sandwich Place</td>\n      <td>Italian Restaurant</td>\n      <td>Burger Joint</td>\n      <td>Department Store</td>\n      <td>Bubble Tea Shop</td>\n      <td>Thai Restaurant</td>\n      <td>Japanese Restaurant</td>\n      <td>Salad Place</td>\n    </tr>\n    <tr>\n      <th>25</th>\n      <td>Downtown Toronto</td>\n      <td>2</td>\n      <td>Grocery Store</td>\n      <td>Café</td>\n      <td>Park</td>\n      <td>Baby Store</td>\n      <td>Nightclub</td>\n      <td>Athletics &amp; Sports</td>\n      <td>Restaurant</td>\n      <td>Coffee Shop</td>\n      <td>Candy Store</td>\n      <td>Italian Restaurant</td>\n    </tr>\n    <tr>\n      <th>30</th>\n      <td>Downtown Toronto</td>\n      <td>2</td>\n      <td>Coffee Shop</td>\n      <td>Café</td>\n      <td>Restaurant</td>\n      <td>Gym</td>\n      <td>Bar</td>\n      <td>Hotel</td>\n      <td>Clothing Store</td>\n      <td>Thai Restaurant</td>\n      <td>Concert Hall</td>\n      <td>Breakfast Spot</td>\n    </tr>\n    <tr>\n      <th>31</th>\n      <td>West Toronto</td>\n      <td>2</td>\n      <td>Pharmacy</td>\n      <td>Bakery</td>\n      <td>Grocery Store</td>\n      <td>Supermarket</td>\n      <td>Middle Eastern Restaurant</td>\n      <td>Music Venue</td>\n      <td>Café</td>\n      <td>Brewery</td>\n      <td>Bar</td>\n      <td>Bank</td>\n    </tr>\n    <tr>\n      <th>36</th>\n      <td>Downtown Toronto</td>\n      <td>2</td>\n      <td>Coffee Shop</td>\n      <td>Aquarium</td>\n      <td>Hotel</td>\n      <td>Café</td>\n      <td>Restaurant</td>\n      <td>Fried Chicken Joint</td>\n      <td>Scenic Lookout</td>\n      <td>Pizza Place</td>\n      <td>Brewery</td>\n      <td>Music Venue</td>\n    </tr>\n    <tr>\n      <th>37</th>\n      <td>West Toronto</td>\n      <td>2</td>\n      <td>Bar</td>\n      <td>Coffee Shop</td>\n      <td>Vietnamese Restaurant</td>\n      <td>Restaurant</td>\n      <td>Café</td>\n      <td>Asian Restaurant</td>\n      <td>Men's Store</td>\n      <td>Cupcake Shop</td>\n      <td>Record Shop</td>\n      <td>Pizza Place</td>\n    </tr>\n    <tr>\n      <th>41</th>\n      <td>East Toronto</td>\n      <td>2</td>\n      <td>Greek Restaurant</td>\n      <td>Coffee Shop</td>\n      <td>Italian Restaurant</td>\n      <td>Restaurant</td>\n      <td>Furniture / Home Store</td>\n      <td>Bookstore</td>\n      <td>Ice Cream Shop</td>\n      <td>Pub</td>\n      <td>Pizza Place</td>\n      <td>Lounge</td>\n    </tr>\n    <tr>\n      <th>42</th>\n      <td>Downtown Toronto</td>\n      <td>2</td>\n      <td>Coffee Shop</td>\n      <td>Hotel</td>\n      <td>Café</td>\n      <td>Restaurant</td>\n      <td>Salad Place</td>\n      <td>American Restaurant</td>\n      <td>Seafood Restaurant</td>\n      <td>Japanese Restaurant</td>\n      <td>Italian Restaurant</td>\n      <td>Asian Restaurant</td>\n    </tr>\n    <tr>\n      <th>43</th>\n      <td>West Toronto</td>\n      <td>2</td>\n      <td>Café</td>\n      <td>Breakfast Spot</td>\n      <td>Nightclub</td>\n      <td>Coffee Shop</td>\n      <td>Grocery Store</td>\n      <td>Burrito Place</td>\n      <td>Bakery</td>\n      <td>Intersection</td>\n      <td>Italian Restaurant</td>\n      <td>Restaurant</td>\n    </tr>\n    <tr>\n      <th>47</th>\n      <td>East Toronto</td>\n      <td>2</td>\n      <td>Park</td>\n      <td>Pizza Place</td>\n      <td>Fast Food Restaurant</td>\n      <td>Pub</td>\n      <td>Fish &amp; Chips Shop</td>\n      <td>Steakhouse</td>\n      <td>Sushi Restaurant</td>\n      <td>Burrito Place</td>\n      <td>Italian Restaurant</td>\n      <td>Restaurant</td>\n    </tr>\n    <tr>\n      <th>48</th>\n      <td>Downtown Toronto</td>\n      <td>2</td>\n      <td>Coffee Shop</td>\n      <td>Restaurant</td>\n      <td>Hotel</td>\n      <td>Café</td>\n      <td>Gym</td>\n      <td>American Restaurant</td>\n      <td>Seafood Restaurant</td>\n      <td>Japanese Restaurant</td>\n      <td>Deli / Bodega</td>\n      <td>Italian Restaurant</td>\n    </tr>\n    <tr>\n      <th>54</th>\n      <td>East Toronto</td>\n      <td>2</td>\n      <td>Coffee Shop</td>\n      <td>Bakery</td>\n      <td>Gastropub</td>\n      <td>Brewery</td>\n      <td>Café</td>\n      <td>American Restaurant</td>\n      <td>Convenience Store</td>\n      <td>Seafood Restaurant</td>\n      <td>Cheese Shop</td>\n      <td>Clothing Store</td>\n    </tr>\n    <tr>\n      <th>67</th>\n      <td>Central Toronto</td>\n      <td>2</td>\n      <td>Park</td>\n      <td>Sandwich Place</td>\n      <td>Dance Studio</td>\n      <td>Hotel</td>\n      <td>Food &amp; Drink Shop</td>\n      <td>Dog Run</td>\n      <td>Breakfast Spot</td>\n      <td>Gym / Fitness Center</td>\n      <td>Department Store</td>\n      <td>Donut Shop</td>\n    </tr>\n    <tr>\n      <th>69</th>\n      <td>West Toronto</td>\n      <td>2</td>\n      <td>Bar</td>\n      <td>Café</td>\n      <td>Mexican Restaurant</td>\n      <td>Thai Restaurant</td>\n      <td>Bakery</td>\n      <td>Speakeasy</td>\n      <td>Bookstore</td>\n      <td>Cajun / Creole Restaurant</td>\n      <td>Music Venue</td>\n      <td>Grocery Store</td>\n    </tr>\n    <tr>\n      <th>73</th>\n      <td>Central Toronto</td>\n      <td>2</td>\n      <td>Coffee Shop</td>\n      <td>Clothing Store</td>\n      <td>Yoga Studio</td>\n      <td>Bagel Shop</td>\n      <td>Furniture / Home Store</td>\n      <td>Ice Cream Shop</td>\n      <td>Fast Food Restaurant</td>\n      <td>Diner</td>\n      <td>Mexican Restaurant</td>\n      <td>Chinese Restaurant</td>\n    </tr>\n    <tr>\n      <th>74</th>\n      <td>Central Toronto</td>\n      <td>2</td>\n      <td>Sandwich Place</td>\n      <td>Café</td>\n      <td>Coffee Shop</td>\n      <td>History Museum</td>\n      <td>Liquor Store</td>\n      <td>Burger Joint</td>\n      <td>Indian Restaurant</td>\n      <td>BBQ Joint</td>\n      <td>Donut Shop</td>\n      <td>Middle Eastern Restaurant</td>\n    </tr>\n    <tr>\n      <th>75</th>\n      <td>West Toronto</td>\n      <td>2</td>\n      <td>Gift Shop</td>\n      <td>Breakfast Spot</td>\n      <td>Dog Run</td>\n      <td>Bar</td>\n      <td>Eastern European Restaurant</td>\n      <td>Dessert Shop</td>\n      <td>Coffee Shop</td>\n      <td>Bookstore</td>\n      <td>Restaurant</td>\n      <td>Italian Restaurant</td>\n    </tr>\n    <tr>\n      <th>79</th>\n      <td>Central Toronto</td>\n      <td>2</td>\n      <td>Sandwich Place</td>\n      <td>Dessert Shop</td>\n      <td>Pizza Place</td>\n      <td>Gym</td>\n      <td>Italian Restaurant</td>\n      <td>Sushi Restaurant</td>\n      <td>Café</td>\n      <td>Coffee Shop</td>\n      <td>Toy / Game Store</td>\n      <td>Indoor Play Area</td>\n    </tr>\n    <tr>\n      <th>80</th>\n      <td>Downtown Toronto</td>\n      <td>2</td>\n      <td>Café</td>\n      <td>Bookstore</td>\n      <td>Japanese Restaurant</td>\n      <td>Sandwich Place</td>\n      <td>Bar</td>\n      <td>Bakery</td>\n      <td>Beer Bar</td>\n      <td>Beer Store</td>\n      <td>Italian Restaurant</td>\n      <td>Comfort Food Restaurant</td>\n    </tr>\n    <tr>\n      <th>81</th>\n      <td>West Toronto</td>\n      <td>2</td>\n      <td>Coffee Shop</td>\n      <td>Café</td>\n      <td>Italian Restaurant</td>\n      <td>Pub</td>\n      <td>Pizza Place</td>\n      <td>Sushi Restaurant</td>\n      <td>French Restaurant</td>\n      <td>Diner</td>\n      <td>Bar</td>\n      <td>Bank</td>\n    </tr>\n    <tr>\n      <th>84</th>\n      <td>Downtown Toronto</td>\n      <td>2</td>\n      <td>Mexican Restaurant</td>\n      <td>Coffee Shop</td>\n      <td>Vegetarian / Vegan Restaurant</td>\n      <td>Café</td>\n      <td>Bar</td>\n      <td>Vietnamese Restaurant</td>\n      <td>Bakery</td>\n      <td>Dessert Shop</td>\n      <td>Park</td>\n      <td>Pizza Place</td>\n    </tr>\n    <tr>\n      <th>86</th>\n      <td>Central Toronto</td>\n      <td>2</td>\n      <td>Coffee Shop</td>\n      <td>Supermarket</td>\n      <td>Restaurant</td>\n      <td>Bagel Shop</td>\n      <td>Sushi Restaurant</td>\n      <td>Bank</td>\n      <td>Fried Chicken Joint</td>\n      <td>Pizza Place</td>\n      <td>American Restaurant</td>\n      <td>Liquor Store</td>\n    </tr>\n    <tr>\n      <th>87</th>\n      <td>Downtown Toronto</td>\n      <td>2</td>\n      <td>Airport Lounge</td>\n      <td>Airport Service</td>\n      <td>Sculpture Garden</td>\n      <td>Boutique</td>\n      <td>Plane</td>\n      <td>Rental Car Location</td>\n      <td>Coffee Shop</td>\n      <td>Boat or Ferry</td>\n      <td>Harbor / Marina</td>\n      <td>Bar</td>\n    </tr>\n    <tr>\n      <th>92</th>\n      <td>Downtown Toronto</td>\n      <td>2</td>\n      <td>Coffee Shop</td>\n      <td>Italian Restaurant</td>\n      <td>Pub</td>\n      <td>Hotel</td>\n      <td>Seafood Restaurant</td>\n      <td>Japanese Restaurant</td>\n      <td>Beer Bar</td>\n      <td>Restaurant</td>\n      <td>Café</td>\n      <td>Farmers Market</td>\n    </tr>\n    <tr>\n      <th>96</th>\n      <td>Downtown Toronto</td>\n      <td>2</td>\n      <td>Coffee Shop</td>\n      <td>Restaurant</td>\n      <td>Café</td>\n      <td>Pizza Place</td>\n      <td>Chinese Restaurant</td>\n      <td>Pub</td>\n      <td>Italian Restaurant</td>\n      <td>Bakery</td>\n      <td>Market</td>\n      <td>Park</td>\n    </tr>\n    <tr>\n      <th>97</th>\n      <td>Downtown Toronto</td>\n      <td>2</td>\n      <td>Coffee Shop</td>\n      <td>Café</td>\n      <td>Hotel</td>\n      <td>Gym</td>\n      <td>Japanese Restaurant</td>\n      <td>Restaurant</td>\n      <td>Salad Place</td>\n      <td>Asian Restaurant</td>\n      <td>Steakhouse</td>\n      <td>American Restaurant</td>\n    </tr>\n    <tr>\n      <th>99</th>\n      <td>Downtown Toronto</td>\n      <td>2</td>\n      <td>Coffee Shop</td>\n      <td>Sushi Restaurant</td>\n      <td>Japanese Restaurant</td>\n      <td>Gay Bar</td>\n      <td>Restaurant</td>\n      <td>Yoga Studio</td>\n      <td>Men's Store</td>\n      <td>Café</td>\n      <td>Bubble Tea Shop</td>\n      <td>Pub</td>\n    </tr>\n    <tr>\n      <th>100</th>\n      <td>East Toronto</td>\n      <td>2</td>\n      <td>Park</td>\n      <td>Pizza Place</td>\n      <td>Skate Park</td>\n      <td>Brewery</td>\n      <td>Burrito Place</td>\n      <td>Farmers Market</td>\n      <td>Fast Food Restaurant</td>\n      <td>Restaurant</td>\n      <td>Butcher</td>\n      <td>Recording Studio</td>\n    </tr>\n  </tbody>\n</table>\n</div>"
     },
     "metadata": {},
     "execution_count": 88
    }
   ],
   "source": [
    "toronto_merged.loc[toronto_merged['Cluster Labels'] == 2, toronto_merged.columns[[1] + list(range(5, toronto_merged.shape[1]))]]"
   ]
  },
  {
   "source": [
    "## Special places"
   ],
   "cell_type": "markdown",
   "metadata": {}
  },
  {
   "cell_type": "code",
   "execution_count": 89,
   "metadata": {},
   "outputs": [
    {
     "output_type": "execute_result",
     "data": {
      "text/plain": [
       "            Borough  Cluster Labels 1st Most Common Venue  \\\n",
       "62  Central Toronto               3           Music Venue   \n",
       "\n",
       "   2nd Most Common Venue 3rd Most Common Venue 4th Most Common Venue  \\\n",
       "62                Garden         Women's Store         Deli / Bodega   \n",
       "\n",
       "   5th Most Common Venue        6th Most Common Venue 7th Most Common Venue  \\\n",
       "62     Electronics Store  Eastern European Restaurant   Dumpling Restaurant   \n",
       "\n",
       "   8th Most Common Venue 9th Most Common Venue 10th Most Common Venue  \n",
       "62            Donut Shop      Doner Restaurant                Dog Run  "
      ],
      "text/html": "<div>\n<style scoped>\n    .dataframe tbody tr th:only-of-type {\n        vertical-align: middle;\n    }\n\n    .dataframe tbody tr th {\n        vertical-align: top;\n    }\n\n    .dataframe thead th {\n        text-align: right;\n    }\n</style>\n<table border=\"1\" class=\"dataframe\">\n  <thead>\n    <tr style=\"text-align: right;\">\n      <th></th>\n      <th>Borough</th>\n      <th>Cluster Labels</th>\n      <th>1st Most Common Venue</th>\n      <th>2nd Most Common Venue</th>\n      <th>3rd Most Common Venue</th>\n      <th>4th Most Common Venue</th>\n      <th>5th Most Common Venue</th>\n      <th>6th Most Common Venue</th>\n      <th>7th Most Common Venue</th>\n      <th>8th Most Common Venue</th>\n      <th>9th Most Common Venue</th>\n      <th>10th Most Common Venue</th>\n    </tr>\n  </thead>\n  <tbody>\n    <tr>\n      <th>62</th>\n      <td>Central Toronto</td>\n      <td>3</td>\n      <td>Music Venue</td>\n      <td>Garden</td>\n      <td>Women's Store</td>\n      <td>Deli / Bodega</td>\n      <td>Electronics Store</td>\n      <td>Eastern European Restaurant</td>\n      <td>Dumpling Restaurant</td>\n      <td>Donut Shop</td>\n      <td>Doner Restaurant</td>\n      <td>Dog Run</td>\n    </tr>\n  </tbody>\n</table>\n</div>"
     },
     "metadata": {},
     "execution_count": 89
    }
   ],
   "source": [
    "toronto_merged.loc[toronto_merged['Cluster Labels'] == 3, toronto_merged.columns[[1] + list(range(5, toronto_merged.shape[1]))]]"
   ]
  }
 ]
}